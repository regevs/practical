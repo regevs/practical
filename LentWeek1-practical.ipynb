{
 "cells": [
  {
   "cell_type": "markdown",
   "id": "3bd535db",
   "metadata": {},
   "source": [
    "# 0. Preliminaries"
   ]
  },
  {
   "cell_type": "markdown",
   "id": "99ab6333",
   "metadata": {},
   "source": [
    "   ## Imports"
   ]
  },
  {
   "cell_type": "code",
   "execution_count": null,
   "id": "b4c26391",
   "metadata": {
    "scrolled": true
   },
   "outputs": [],
   "source": [
    "import numpy as np\n",
    "import matplotlib.pyplot as plt\n",
    "import pandas as pd\n",
    "import warnings\n",
    "from IPython.display import HTML as html_print\n",
    "import seaborn as sns    # for heatmaps\n",
    "\n",
    "import logomaker         # if not present install with: pip install logomaker"
   ]
  },
  {
   "cell_type": "markdown",
   "id": "168ddbd0",
   "metadata": {},
   "source": [
    "## Parameters of the problem"
   ]
  },
  {
   "cell_type": "code",
   "execution_count": null,
   "id": "ede5fdec",
   "metadata": {},
   "outputs": [],
   "source": [
    "# These are global variables to be used throughout the notebook\n",
    "num_sequences = 50\n",
    "sequence_length = 100\n",
    "motif_length = 8\n",
    "alpha = 1 # this alpha is used when estimating the motif"
   ]
  },
  {
   "cell_type": "markdown",
   "id": "c7239023",
   "metadata": {},
   "source": [
    "## Initialize the random number generator"
   ]
  },
  {
   "cell_type": "code",
   "execution_count": null,
   "id": "66f54f31",
   "metadata": {},
   "outputs": [],
   "source": [
    "random_seed = 2023\n",
    "rng = np.random.default_rng(random_seed)"
   ]
  },
  {
   "cell_type": "markdown",
   "id": "bce5816d",
   "metadata": {},
   "source": [
    "# 1. Generate the data"
   ]
  },
  {
   "cell_type": "markdown",
   "id": "c3804d4b",
   "metadata": {},
   "source": [
    "## Functions to generate and view a motif\n",
    "We will represent the motif by a list length K of probability distributions over [0..3]"
   ]
  },
  {
   "cell_type": "code",
   "execution_count": null,
   "id": "ab702d4e",
   "metadata": {},
   "outputs": [],
   "source": [
    "def sample_motif(motif_length=motif_length, alpha=0.1):\n",
    "    \"\"\"\n",
    "    Create a motif from the dirichlet distribution\n",
    "    \"\"\"\n",
    "    return rng.dirichlet([alpha]*4, motif_length) # fill using rng.dirichlet() \n",
    "\n",
    "def draw_motif(motif, title=\"\", ax=None):\n",
    "    \"\"\"\n",
    "    Draw a logo of the motif with logomaker\n",
    "    \"\"\"\n",
    "    # Make dataframe for logomake\n",
    "    df = pd.DataFrame(motif, columns=[\"A\", \"C\", \"G\", \"T\"])\n",
    "    df = logomaker.transform_matrix(df, from_type=\"probability\", to_type=\"information\")\n",
    "    logo = logomaker.Logo(df, ax=ax)\n",
    "\n",
    "    with warnings.catch_warnings():\n",
    "        warnings.simplefilter(\"ignore\") \n",
    "        logo.ax.set_title(title)\n",
    "        # logo.ax.set_xlabel(\"Position\")\n",
    "        logo.ax.set_ylabel(\"Total information\")\n",
    "        logo.ax.set_ylim(0, np.log2(4))\n",
    "        logo.fig.show()\n",
    "        "
   ]
  },
  {
   "cell_type": "markdown",
   "id": "b1fea7f3",
   "metadata": {},
   "source": [
    "## Test out motif generation\n",
    "Get the next cell to run yourself, by fixing the code in sample_motif() function above, then explore what happens as you vary alpha, e.g. to 0.5, 1, 5, perhaps 0.01. Try each value several times."
   ]
  },
  {
   "cell_type": "code",
   "execution_count": null,
   "id": "d148971c",
   "metadata": {},
   "outputs": [],
   "source": [
    "M = sample_motif(alpha = 0.1)\n",
    "# print out the motif nicely\n",
    "with np.printoptions(precision=3, suppress=True):\n",
    "    print(M)\n",
    "# draw the logo for the motif - we will use this function below to visualise motifs\n",
    "draw_motif(M)"
   ]
  },
  {
   "cell_type": "markdown",
   "id": "c1993538",
   "metadata": {},
   "source": [
    "## Next we generate some example instances from a motif\n",
    "The motifs we just made are probalistic models of sequences of length K.  Here we generate several examples of our current motif.  First you need to fill in the missing code in the function definition in the next cell, and run this to define the function. Then you can explore using it to sample instances of the motif. Try this with motifs made with different values of alpha (obtained by re-running the cell above with the desired value of alpha). Motifs made with smaller values of alpha should create more conserved sets of sample instances."
   ]
  },
  {
   "cell_type": "code",
   "execution_count": null,
   "id": "e319cbdb",
   "metadata": {},
   "outputs": [],
   "source": [
    "def sample_sequence_from_motif(motif):\n",
    "    \"\"\"\n",
    "    Sample an instance of the motif from the distribution defined by the motif\n",
    "    \"\"\"\n",
    "    # Initialize the sequence array\n",
    "    motif_sequence = np.zeros(motif_length, dtype=int)\n",
    "\n",
    "    # Draw each sequence element from motif\n",
    "    for k in range(motif_length):\n",
    "        motif_sequence[k] = rng.choice(4, size=1, p=motif[k, :]) # fill using rng.choice() \n",
    "\n",
    "    return motif_sequence"
   ]
  },
  {
   "cell_type": "code",
   "execution_count": null,
   "id": "e5c5136c",
   "metadata": {},
   "outputs": [],
   "source": [
    "for i in range(10):\n",
    "    seq = sample_sequence_from_motif(M)\n",
    "    for s in seq:\n",
    "        print (\"ACGT\"[s], end='')\n",
    "    print()"
   ]
  },
  {
   "cell_type": "markdown",
   "id": "e4f3e95e",
   "metadata": {},
   "source": [
    "## Now generate a set of sequences that each incorporate one copy of the motif"
   ]
  },
  {
   "cell_type": "code",
   "execution_count": null,
   "id": "aa8b3b44",
   "metadata": {
    "scrolled": true
   },
   "outputs": [],
   "source": [
    "def generate_sequences(motif):\n",
    "    \"\"\"\n",
    "    Sample a set of sequences, with a single instance of the motif \n",
    "    embedded at a random position in each sequence\n",
    "    \"\"\"        \n",
    "    # Initialize the sequences matrix with random bases\n",
    "    sequences = rng.integers(4, size=(num_sequences, sequence_length))\n",
    "\n",
    "    # Draw positions for motifs\n",
    "    positions = rng.integers(sequence_length - motif_length + 1, size=num_sequences)\n",
    "\n",
    "    # Per full sequence, draw from motif and insert\n",
    "    for n in range(num_sequences):\n",
    "        sequences[n, positions[n]:positions[n]+motif_length] = sample_sequence_from_motif(motif) # replace the subsequence of length motif_length at positions[n] with a motif instance\n",
    "            \n",
    "    return sequences, positions\n",
    "\n",
    "\n",
    "def cstr(s, color='black'):\n",
    "    return \"<text style='color:{};font-family:monospace;font-size:1em'>{}</text>\".format(color, s)\n",
    "\n",
    "def draw_sequences(sequences, positions=None):\n",
    "    \"\"\"\n",
    "    Show the sequences in nice text, optionally highlighting the motif positions in red\n",
    "    \"\"\"\n",
    "    text = \"\"\n",
    "    for n in range(len(sequences)):\n",
    "        row = \"\"\n",
    "        for s in sequences[n]:\n",
    "            row += \"ACGT\"[s]\n",
    "        row += \"\\n\"\n",
    "        \n",
    "        # If no positions to show, everything is black\n",
    "        if positions is None:                  \n",
    "            row = cstr(row, color='black')\n",
    "    \n",
    "        # Otherwise, color in red\n",
    "        else:\n",
    "            pos = positions[n]\n",
    "            row = \\\n",
    "                cstr(row[:pos], color=\"black\") + \\\n",
    "                cstr(row[pos:pos+motif_length], color=\"red\") + \\\n",
    "                cstr(row[pos+motif_length:], color=\"black\")\n",
    "        \n",
    "        text += row\n",
    "    \n",
    "    display(html_print(text))\n"
   ]
  },
  {
   "cell_type": "code",
   "execution_count": null,
   "id": "5d6ac300",
   "metadata": {},
   "outputs": [],
   "source": [
    "sequences, positions = generate_sequences(M)\n",
    "draw_sequences(sequences[:20], positions)  # use without positions to show without highlighting"
   ]
  },
  {
   "cell_type": "markdown",
   "id": "78e63965",
   "metadata": {},
   "source": [
    "# 2. Expectation-Maximization\n",
    "First we define the key set of functions to calculate the overall log likelihood, the posteriors of the positions given the sequences (expectation step), the new parameter values given the posteriors (maximisation step).  Then the function to iterate the steps to run the EM algorithm, and a function to draw the results so we can see what happened."
   ]
  },
  {
   "cell_type": "markdown",
   "id": "14df7fde",
   "metadata": {},
   "source": [
    "## Calculate log-likelihood of data"
   ]
  },
  {
   "cell_type": "code",
   "execution_count": null,
   "id": "d646dfa7",
   "metadata": {},
   "outputs": [],
   "source": [
    "def log_likelihood(sequences, motif):\n",
    "    \"\"\"\n",
    "    Calculate the log-likehood of the sequences given the motif, \n",
    "    integrating over all positions.\n",
    "    \"\"\"\n",
    "    # Initialize\n",
    "    ll = 0.0\n",
    "    max_position = sequence_length - motif_length + 1\n",
    "    constant_part = (1.0 / max_position) * (1.0/4)**(sequence_length - motif_length)\n",
    "    \n",
    "    # Per sequence, add the log-likelihood\n",
    "    for n in range(num_sequences):\n",
    "        pseq = 0.0\n",
    "        for i in range(max_position):\n",
    "            # add to pseq the probability of sequence n with motif at position i (several lines needed)\n",
    "            part = constant_part\n",
    "            for k in range(motif_length):\n",
    "                part *= motif[k, sequences[n, i + k]] \n",
    "            pseq += part\n",
    "        ll += np.log(pseq)\n",
    "                        \n",
    "    return ll\n",
    "        "
   ]
  },
  {
   "cell_type": "markdown",
   "id": "a48e9f28",
   "metadata": {},
   "source": [
    "## Expectation step"
   ]
  },
  {
   "cell_type": "code",
   "execution_count": null,
   "id": "37ffec50",
   "metadata": {},
   "outputs": [],
   "source": [
    "def expectation_step(sequences, motif):\n",
    "    \"\"\"\n",
    "    Calculate the posterior probabilities of the motif being at each position in each sequence\n",
    "    \"\"\"\n",
    "    # Initialize\n",
    "    max_position = sequence_length - motif_length + 1\n",
    "    positions_posterior = np.zeros((num_sequences, max_position), dtype=float)\n",
    "    \n",
    "    # Per sequence, calculate the posterior\n",
    "    for n in range(num_sequences):\n",
    "        # Calculate the likelihood of each k-mer in the sequence \n",
    "        for i in range(max_position):\n",
    "            likelihood = 1.0\n",
    "            for k in range(motif_length):\n",
    "                likelihood *= motif[k, sequences[n, i + k]] # update the joint likelihood for position k in the motif\n",
    "            positions_posterior[n, i] = likelihood\n",
    "            \n",
    "        # Normalize the posteriors for sequence n to sum to 1\n",
    "        positions_posterior[n, :] /= positions_posterior[n, :].sum()\n",
    "        \n",
    "    return positions_posterior\n",
    "    "
   ]
  },
  {
   "cell_type": "markdown",
   "id": "598dbda6",
   "metadata": {},
   "source": [
    "## Maximization step"
   ]
  },
  {
   "cell_type": "code",
   "execution_count": null,
   "id": "9857e67c",
   "metadata": {},
   "outputs": [],
   "source": [
    "def maximization_step(sequences, positions_posterior):\n",
    "    \"\"\"\n",
    "    Re-estimate the motif by summing expected counts using the posterior from the expectation_step\n",
    "    \"\"\"\n",
    "    # Initialize\n",
    "    max_position = sequence_length - motif_length + 1\n",
    "    motif_estimate = np.zeros((motif_length, 4), dtype=float)   \n",
    "    \n",
    "    # Add dirichlet prior\n",
    "    motif_estimate += alpha\n",
    "    \n",
    "    # Build the estimate\n",
    "    for k in range(motif_length):\n",
    "        for n in range(num_sequences):\n",
    "            for i in range(max_position):\n",
    "                # Which nucleotide is in the k-th position of the i-th k-mer \n",
    "                # in the n-th sequence?\n",
    "                j = sequences[n, i+k]\n",
    "                \n",
    "                # Update the respective estimate\n",
    "                motif_estimate[k, j] += positions_posterior[n, i]\n",
    "                \n",
    "        motif_estimate[k, :] /= motif_estimate[k, :].sum() # Normalize the motif_estimates at k to sum to 1\n",
    "        \n",
    "    return motif_estimate\n",
    "        \n",
    "    "
   ]
  },
  {
   "cell_type": "markdown",
   "id": "e6e55e5c",
   "metadata": {},
   "source": [
    "## EM algorithm"
   ]
  },
  {
   "cell_type": "code",
   "execution_count": null,
   "id": "d0c0299d",
   "metadata": {},
   "outputs": [],
   "source": [
    "def expectation_maximization(sequences, n_iterations, print_every=None, parallel=False):\n",
    "    \"\"\"\n",
    "    search for a maximum likelihood motif estimate by alternating expectation_ and maximisation_ steps\n",
    "    return the estimated motif, and the log likelihoods, position distributions and motifs at each step\n",
    "    \"\"\"\n",
    "    # Initialize the motif estimate randomly\n",
    "    if parallel:\n",
    "        est_motif = np.random.default_rng().random(size=(motif_length, 4)) # so as to get random starts\n",
    "    else:\n",
    "        est_motif = rng.random(size=(motif_length, 4)) # this way things are pseudorandom predictable\n",
    "    est_motif /= est_motif.sum(axis=1)[:, np.newaxis]\n",
    "    \n",
    "    # Iterate E and M steps\n",
    "    lls = []\n",
    "    positions_posteriors = []\n",
    "    motifs = []\n",
    "    for n_iter in range(n_iterations):\n",
    "        # Print current log-likelihood\n",
    "        ll = log_likelihood(sequences, est_motif)\n",
    "        lls.append(ll)\n",
    "        if (print_every is not None) and (n_iter % print_every == 0):\n",
    "            print(f\"Iteration {n_iter}: LL = {ll}\")\n",
    "        \n",
    "        # E step\n",
    "        positions_posterior = expectation_step(sequences, est_motif)\n",
    "        positions_posteriors.append(positions_posterior)\n",
    "        \n",
    "        # M step\n",
    "        est_motif = maximization_step(sequences, positions_posterior)\n",
    "        motifs.append(est_motif)\n",
    "    \n",
    "    return est_motif, lls, positions_posteriors, motifs"
   ]
  },
  {
   "cell_type": "markdown",
   "id": "1f4ffc79",
   "metadata": {},
   "source": [
    "## Plot results"
   ]
  },
  {
   "cell_type": "code",
   "execution_count": null,
   "id": "415f937d",
   "metadata": {},
   "outputs": [],
   "source": [
    "def plot_results(iters,est_motif,lls,posteriors,motifs):\n",
    "    print (f\"LL with true motif {log_likelihood(sequences,M)}\")\n",
    "    print (f\"LL with final estimated motif {log_likelihood(sequences,est_motif)}\")\n",
    "       \n",
    "    # plot the true and final estimated motifs\n",
    "    fig, axs = plt.subplots(1, 2, figsize=(12, 3))\n",
    "    draw_motif(M,ax=axs[0])\n",
    "    axs[0].set_title(\"True motif\")\n",
    "    draw_motif(est_motif,ax=axs[1])\n",
    "    axs[1].set_title(\"Final estimated motif\")\n",
    "    \n",
    "    if lls is not None:\n",
    "        # plot the log likelihoods\n",
    "        plt.figure()\n",
    "        plt.plot(lls)\n",
    "        plt.xlabel(\"# of iteration\")\n",
    "        plt.ylabel(\"log likelihood\")\n",
    "    \n",
    "    # plot heatmaps of the motif locations at given iterations\n",
    "    if len(iters) > 0 and posteriors is not None:\n",
    "        fig, axs = plt.subplots(1, len(iters), figsize=(20, 8))\n",
    "        for ax, n_iter in zip(axs, iters):\n",
    "            sns.heatmap(posteriors[n_iter][:,:], ax=ax, vmin=0, vmax=1);\n",
    "            ax.set_title(f\"Iteration # {n_iter}\")\n",
    "            ax.set_ylabel(\"Sequence #\")\n",
    "            ax.set_xlabel(\"Position\")\n",
    "    \n",
    "    # and below them the motifs\n",
    "    if len(iters) > 0 and motifs is not None:\n",
    "        fig, axs = plt.subplots(1, len(iters), figsize=(20, 2))\n",
    "        for ax, n_iter in zip(axs, iters):\n",
    "            draw_motif(motifs[n_iter],ax=ax)"
   ]
  },
  {
   "cell_type": "markdown",
   "id": "9f7b2f29",
   "metadata": {},
   "source": [
    "## Run it!"
   ]
  },
  {
   "cell_type": "code",
   "execution_count": null,
   "id": "950fc4ea",
   "metadata": {},
   "outputs": [],
   "source": [
    "est_motif, lls, positions_posteriors, motifs = expectation_maximization(sequences, 100, print_every=10)"
   ]
  },
  {
   "cell_type": "code",
   "execution_count": null,
   "id": "2d01c3a2",
   "metadata": {},
   "outputs": [],
   "source": [
    "plot_results([0,10,20,50],est_motif,lls,positions_posteriors,motifs)"
   ]
  },
  {
   "cell_type": "markdown",
   "id": "1ee3dbf8",
   "metadata": {},
   "source": [
    "### Try running the following cell several times. In what ways does the output vary, and why?"
   ]
  },
  {
   "cell_type": "code",
   "execution_count": null,
   "id": "6464e01a",
   "metadata": {},
   "outputs": [],
   "source": [
    "plot_results([], *expectation_maximization(sequences, 50, print_every=10))"
   ]
  },
  {
   "cell_type": "markdown",
   "id": "2587b43f",
   "metadata": {},
   "source": [
    "### Now lets try making different motifs, with different prior Dirichlet alpha\n",
    "What seem to be constraints on the ability to find the motif?"
   ]
  },
  {
   "cell_type": "code",
   "execution_count": null,
   "id": "39815b72",
   "metadata": {},
   "outputs": [],
   "source": [
    "M = sample_motif(alpha = 0.2)       # try alpha = 0.2, 0.5, 1, perhaps even more\n",
    "# if it hasn't converged correctly you could try generating more sequences by uncommenting/changing the next line\n",
    "# num_sequences = 100\n",
    "sequences, positions = generate_sequences(M)\n",
    "# and if it hasn't converged by 50 iterations you could increase the number 50 in the next line\n",
    "est_motif, lls, positions_posteriors, motifs = expectation_maximization(sequences, 50, print_every=10)\n",
    "plot_results([], est_motif, lls, positions_posteriors, motifs)"
   ]
  },
  {
   "cell_type": "markdown",
   "id": "dec5dc66",
   "metadata": {},
   "source": [
    "# 3. Monte-Carlo Markov Chain (MCMC)\n",
    "As before we first define the necessary functions, with you having to fill in some missing fields to ensure that you read the code and understand what is being done."
   ]
  },
  {
   "cell_type": "code",
   "execution_count": null,
   "id": "d5fec7f6",
   "metadata": {},
   "outputs": [],
   "source": [
    "def log_likelihood_with_positions(sequences, positions, motif):\n",
    "\n",
    "    # Initialize\n",
    "    ll = 0.0\n",
    "    max_position = sequence_length - motif_length + 1\n",
    "    \n",
    "    # Per sequence, add the log-likelihood\n",
    "    for n in range(num_sequences):\n",
    "        p = 0.0\n",
    "        i = positions[n]\n",
    "        q = 1\n",
    "        for k in range(motif_length):\n",
    "            q *= motif[k, sequences[n, i + k]] \n",
    "        p += q\n",
    "        ll += np.log(p)\n",
    "                        \n",
    "    return ll"
   ]
  },
  {
   "cell_type": "code",
   "execution_count": null,
   "id": "af2f4e59",
   "metadata": {},
   "outputs": [],
   "source": [
    "def gibbs_sample_position(sequences, est_motif):\n",
    "\n",
    "    max_position = sequence_length - motif_length + 1\n",
    "\n",
    "    # Draw new positions\n",
    "    positions_posterior = expectation_step(sequences, est_motif)\n",
    "    positions = np.zeros(len(sequences), dtype=int)\n",
    "    for n in range(num_sequences):\n",
    "        positions[n] = rng.choice(max_position, p=positions_posterior[n]) # fill in the distribution used to select the position\n",
    "        \n",
    "    return positions\n"
   ]
  },
  {
   "cell_type": "code",
   "execution_count": null,
   "id": "f41826cd",
   "metadata": {},
   "outputs": [],
   "source": [
    "def calculate_posterior_dirichlet_parameters(alpha, sequences, positions, motif_length):\n",
    "\n",
    "    max_position = sequence_length - motif_length + 1\n",
    "    \n",
    "    # Calculate the posterior dirichlet parameters\n",
    "    posterior_parameters = np.ones((motif_length, 4), dtype=float) * alpha    \n",
    "    for k in range(motif_length):\n",
    "        for n in range(num_sequences):\n",
    "            a = sequences[n, positions[n] + k]\n",
    "            posterior_parameters[k,a] += 1            \n",
    "    \n",
    "    return posterior_parameters\n",
    "    "
   ]
  },
  {
   "cell_type": "code",
   "execution_count": null,
   "id": "9de5d8e1",
   "metadata": {},
   "outputs": [],
   "source": [
    "def gibbs_sample_motif(alpha, sequences, est_positions, motif_length):\n",
    "\n",
    "    max_position = sequence_length - motif_length + 1\n",
    "    \n",
    "    # Calculate the dirichelt parameters\n",
    "    dirichlet_parameters = calculate_posterior_dirichlet_parameters(alpha, sequences, est_positions,motif_length)\n",
    "    \n",
    "    # Draw new motif from this distribution\n",
    "    est_motif = np.zeros((motif_length, 4), dtype=float)\n",
    "    for k in range(motif_length):\n",
    "        est_motif[k, :] = rng.dirichlet(dirichlet_parameters[k]) # fill in the parameter set to sample from\n",
    "        \n",
    "    return est_motif\n",
    "    "
   ]
  },
  {
   "cell_type": "code",
   "execution_count": null,
   "id": "cb23b853",
   "metadata": {},
   "outputs": [],
   "source": [
    "def metropolis_hastings_step(sequences, est_positions, est_motif, current_ll, max_position):\n",
    "\n",
    "    # Make new state\n",
    "    if rng.random() < 0.5:\n",
    "        # abcdefgh -> habcdefg\n",
    "        new_motif = np.roll(est_motif, 1, axis=0)\n",
    "        new_positions = (est_positions - 1) % max_position\n",
    "    else:\n",
    "        # abcdefgh -> bcdefgha\n",
    "        new_motif = np.roll(est_motif, -1, axis=0)\n",
    "        new_positions = (est_positions + 1) % max_position\n",
    "        \n",
    "    # Calculate likelihood of new state\n",
    "    new_ll = log_likelihood_with_positions(sequences, new_positions, new_motif)\n",
    "    \n",
    "    # Acceptance ratio\n",
    "    acceptance_ratio = min(1.0, np.exp(new_ll - current_ll))\n",
    "    \n",
    "    # Accept if needed\n",
    "    if rng.random() < acceptance_ratio:\n",
    "        return new_motif, new_positions, True\n",
    "    else:\n",
    "        return est_motif, est_positions, False\n",
    "        "
   ]
  },
  {
   "cell_type": "code",
   "execution_count": null,
   "id": "c841aa81",
   "metadata": {},
   "outputs": [],
   "source": [
    "def mcmc_sampling(sequences, motif_length, alpha, n_iterations, with_shifts=False, print_every=None):\n",
    "\n",
    "    # Initialize the motif estimate randomly\n",
    "    est_motif = rng.random(size=(motif_length, 4))\n",
    "    est_motif /= est_motif.sum(axis=1)[:, np.newaxis]\n",
    "    \n",
    "    # Initialize positions\n",
    "    max_position = sequence_length - motif_length + 1\n",
    "    est_positions = rng.integers(max_position, size=num_sequences)\n",
    "        \n",
    "    # MCMC iterations\n",
    "    lls = []\n",
    "    motifs = []\n",
    "    all_shifted = []\n",
    "    for n_iter in range(n_iterations):\n",
    "        # Print current log-likelihood\n",
    "        motifs.append(est_motif)\n",
    "        ll = log_likelihood_with_positions(sequences, est_positions, est_motif)\n",
    "        lls.append(ll)\n",
    "        if (print_every is not None) and (n_iter % print_every == 0):\n",
    "            print(f\"Iteration {n_iter}: LL = {ll}\")\n",
    "            \n",
    "        # Draw new positions\n",
    "        est_positions = gibbs_sample_position(sequences, est_motif)\n",
    "        \n",
    "        # Draw new motif\n",
    "        est_motif = gibbs_sample_motif(alpha, sequences, est_positions, motif_length)\n",
    "        \n",
    "        # Possible shift\n",
    "        if with_shifts:\n",
    "            est_motif, est_positions, shifted = metropolis_hastings_step(sequences, est_positions, est_motif,\n",
    "                                                                         ll, max_position)\n",
    "            all_shifted.append(shifted)\n",
    "        \n",
    "    return est_motif, lls, motifs\n",
    "    "
   ]
  },
  {
   "cell_type": "markdown",
   "id": "20e3187a",
   "metadata": {},
   "source": [
    "## Run it several times, both with shifts off (default) and shifts on\n",
    "How do these results compare with the EM solutions?\n",
    "\n",
    "Look carefully at the log_likelihood values for the final solution. How are the final estimated motifs and their likelihoods different from those obtained by EM?\n",
    "\n",
    "What happens when we allow shift operations using Metropolis-Hastings?\n",
    "\n",
    "How does the number of iterations required compare with EM? What might be sensible numbers for the burn-in period and for taking random samples from the Markov chain? \n",
    "\n",
    "Maybe it would be interesting to try MCMC with a variety of motifs made with different values of alpha (remember to sample new sequences also when you make a new motif M)."
   ]
  },
  {
   "cell_type": "code",
   "execution_count": null,
   "id": "a4d9ee5f",
   "metadata": {},
   "outputs": [],
   "source": [
    "est_motif, lls, motifs = mcmc_sampling(sequences, motif_length, alpha, 500, with_shifts=False, print_every=50)\n",
    "plot_results([0,50,100,200,400],est_motif, lls, None, motifs)"
   ]
  },
  {
   "cell_type": "code",
   "execution_count": null,
   "id": "54d970a3",
   "metadata": {},
   "outputs": [],
   "source": [
    "# this is a useful cell of code repeated from above that can be run to change the motif and sequences\n",
    "\n",
    "M = sample_motif(alpha = 0.2)       # try alpha = 0.2, 0.5, 1, perhaps even more\n",
    "# if it hasn't converged correctly you could try generating more sequences by uncommenting/changing the next line\n",
    "# num_sequences = 100\n",
    "sequences, positions = generate_sequences(M)"
   ]
  },
  {
   "cell_type": "markdown",
   "id": "302c6c50",
   "metadata": {},
   "source": [
    "# 4. Real data\n",
    "Here we will explore a real data set of 200 promoter sequences identified in [Serizay et al. (2020)](https://genome.cshlp.org/content/30/12/1752.long) as being active in genes with tissue-specific expression in the intestine of the nematode *C. elegans*."
   ]
  },
  {
   "cell_type": "code",
   "execution_count": 203,
   "id": "43d0210d",
   "metadata": {},
   "outputs": [
    {
     "name": "stdout",
     "output_type": "stream",
     "text": [
      "num_sequences 200 sequence_length 151\n"
     ]
    }
   ],
   "source": [
    "# First we upload the data set\n",
    "# pip install biopython\n",
    "from Bio import SeqIO\n",
    "\n",
    "fasta_sequences = SeqIO.parse(open(\"elegans_intestine.WS235.fa\"),'fasta')\n",
    "\n",
    "sequences = []\n",
    "for fasta in fasta_sequences:\n",
    "    s = str(fasta.seq)\n",
    "    table = s.maketrans('ACGT','0123')\n",
    "    s = s.translate(table)\n",
    "    s = np.array(list(s)).astype(int)\n",
    "    sequences.append(s)\n",
    "\n",
    "sequences = np.array(sequences)\n",
    "num_sequences, sequence_length = sequences.shape\n",
    "print(\"num_sequences\", num_sequences, \"sequence_length\", sequence_length)"
   ]
  },
  {
   "cell_type": "markdown",
   "id": "e36e2967",
   "metadata": {},
   "source": [
    "## Now we can run our EM program\n",
    "Try running it several times.\n",
    "\n",
    "It is likely that you will get different outcomes. This is because with real data there may be more than one pattern present, unlike in our simulations. Also unlike in our simulations, in real data the background model of a simple 0.25 probability per base is clearly over-simplified."
   ]
  },
  {
   "cell_type": "code",
   "execution_count": null,
   "id": "4b4a22a5",
   "metadata": {},
   "outputs": [],
   "source": [
    "# now we can run our EM algorithm\n",
    "# try running this several times\n",
    "est_motif, lls, positions_posteriors, motifs = expectation_maximization(sequences, 50, print_every=10)\n",
    "draw_motif(est_motif)\n",
    "plt.figure()\n",
    "plt.plot(lls)\n",
    "plt.xlabel(\"# of iteration\")\n",
    "plt.ylabel(\"log likelihood\")\n"
   ]
  },
  {
   "cell_type": "markdown",
   "id": "5ccefb21",
   "metadata": {},
   "source": [
    "## Parallel search for high scoring motifs\n",
    "Because different random starts given different results, we will run 20 jobs in parallel, then sort the results by score.\n",
    "\n",
    "You need to wait until you see \"Done 20 out of 20\" in order for all the jobs to finish, before sorting and printing in the next cell.  How many run at once depends on the computer you are working on.\n",
    "\n",
    "How many fundamentally different patterns do you find?"
   ]
  },
  {
   "cell_type": "code",
   "execution_count": null,
   "id": "c411332e",
   "metadata": {},
   "outputs": [],
   "source": [
    "# to find the top matches, run EM 20 times and sort the results by the log likelihood\n",
    "\n",
    "import joblib\n",
    "\n",
    "results = joblib.Parallel(n_jobs=-1,verbose=100)(   # this uses all available cores to parallelise\n",
    "    joblib.delayed(expectation_maximization)(sequences, 31, print_every=10, parallel=True)\n",
    "        for i in range(20)\n",
    ")"
   ]
  },
  {
   "cell_type": "code",
   "execution_count": null,
   "id": "8d05c0d9",
   "metadata": {},
   "outputs": [],
   "source": [
    "# store just the final log likelihoods and motifs in list LLmotif, then sort\n",
    "\n",
    "LLmotif = []\n",
    "for R in results:\n",
    "    LLmotif.append([R[1][-1],R[0]])  # the final log likelihood and the motif\n",
    "from operator import itemgetter\n",
    "LLmotif.sort(key=itemgetter(0), reverse=True)\n",
    "for x in LLmotif:\n",
    "    draw_motif(x[1], title=f\"LL {x[0]}\")"
   ]
  },
  {
   "cell_type": "markdown",
   "id": "4888e6c5",
   "metadata": {},
   "source": [
    "## Compare to MEME\n",
    "\n",
    "This is [a link to the output of a MEME run](https://meme-suite.org/meme//opal-jobs/appMEME_5.5.016744305844412056779887/meme.html) on the same sequences, using default parameters in the OOPS (One Occurrence Per Sequence) mode.\n",
    "\n",
    "Are there similarities, or differences, between your high scoring motifs and the ones found by MEME? You should note that MEME is much more sophisticated, searching both strands, with a background model that it learns from the data."
   ]
  },
  {
   "cell_type": "markdown",
   "id": "4e56960d",
   "metadata": {},
   "source": [
    "## Search in the JASPAR database using Tomtom\n",
    "\n",
    "The [JASPAR](https://jaspar.genereg.net/) database contains a curated set of previously established binding motif patterns for hundreds of transcription factors and species, including *C.elegans*.\n",
    "\n",
    "You can search it to find known patterns similar to motifs you have found using another program in the MEME suite, [TomTom](https://meme-suite.org/meme/tools/tomtom). \n",
    "\n",
    "To load your motifs found in from the worm intestine practical into TomTom, you need to first write them out as a file in MEME minimal format. Below we define code to do that, then give instructions to upload this file to the TomTom web site.\n",
    "    \n",
    "What does your lead pattern correspond to?  Remember that the sequence you obtain may be the reverse complement of what MEME finds (it searches both strands)."
   ]
  },
  {
   "cell_type": "code",
   "execution_count": null,
   "id": "ab708a2e",
   "metadata": {},
   "outputs": [],
   "source": [
    "def write_MEME_file(motifs, file_name=\"MCB.meme\", motif_name=\"MCB\"):\n",
    "    with open(file_name,'w') as f:\n",
    "        # write header\n",
    "        f.write(\"MEME version 5.5.0\\n\\n\")\n",
    "        f.write(\"ALPHABET= ACGT\\n\\n\")\n",
    "        f.write(\"strands: + -\\n\\n\")\n",
    "        # write motifs\n",
    "        count = 0\n",
    "        for m in motifs:\n",
    "            count = count + 1\n",
    "            f.write(f\"MOTIF {motif_name}-{count}\\n\\n\")\n",
    "            f.write(f\"letter-probability matrix: alength= 4 w= {motif_length}\\n\")\n",
    "            np.savetxt(f, m, delimiter=' ', fmt='%.4f')\n",
    "            f.write(\"\\n\")\n",
    "        f.close()\n",
    "    print(len(motifs), \"motifs written\")"
   ]
  },
  {
   "cell_type": "code",
   "execution_count": null,
   "id": "551bb827",
   "metadata": {},
   "outputs": [],
   "source": [
    "write_MEME_file([LLmotif[0][1], LLmotif[8][1]]) # list here the motifs you want, e.g. numbers 0 and 8 in the sorted list"
   ]
  },
  {
   "cell_type": "markdown",
   "id": "c0ab0141",
   "metadata": {},
   "source": [
    "## Search in TomTom\n",
    "* go to the [TomTom submission link](https://meme-suite.org/meme/tools/tomtom)\n",
    "* upload the file you have just written (called MCB.meme, unless you renamed it)\n",
    "* select the \"JASPAR (NON-REDUNDANT) DNA\" target motif database\n",
    "* select the \"JASPAR CORE (2022) nematodes\", unless you want to search all species, in which case leave it as \"JASPAR CORE\"\n",
    "* tick the \"Search with one motif (faster queue)\" box\n",
    "* press \"Start search\"\n",
    "\n",
    "What do you find?"
   ]
  },
  {
   "cell_type": "markdown",
   "id": "b0d11abd",
   "metadata": {},
   "source": [
    "## Another promoter region file\n",
    "\n",
    "If you enjoyed that, and have time left, there is another file elegans_muscle.WS235.fa you can try, containing 200 promoter sequences from muscle genes, from the same paper."
   ]
  },
  {
   "cell_type": "code",
   "execution_count": null,
   "id": "ed5b9bc4",
   "metadata": {},
   "outputs": [],
   "source": []
  }
 ],
 "metadata": {
  "kernelspec": {
   "display_name": "Python 3 (ipykernel)",
   "language": "python",
   "name": "python3"
  },
  "language_info": {
   "codemirror_mode": {
    "name": "ipython",
    "version": 3
   },
   "file_extension": ".py",
   "mimetype": "text/x-python",
   "name": "python",
   "nbconvert_exporter": "python",
   "pygments_lexer": "ipython3",
   "version": "3.9.12"
  }
 },
 "nbformat": 4,
 "nbformat_minor": 5
}

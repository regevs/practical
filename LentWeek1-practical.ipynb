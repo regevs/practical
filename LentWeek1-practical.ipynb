{
 "cells": [
  {
   "cell_type": "markdown",
   "id": "3bd535db",
   "metadata": {},
   "source": [
    "# 0. Preliminaries"
   ]
  },
  {
   "cell_type": "markdown",
   "id": "99ab6333",
   "metadata": {},
   "source": [
    "   ## Imports"
   ]
  },
  {
   "cell_type": "code",
   "execution_count": 44,
   "id": "b4c26391",
   "metadata": {
    "scrolled": true
   },
   "outputs": [],
   "source": [
    "import numpy as np\n",
    "import matplotlib.pyplot as plt\n",
    "import pandas as pd\n",
    "import warnings\n",
    "from IPython.display import HTML as html_print\n",
    "import seaborn as sns    # for heatmaps\n",
    "\n",
    "import logomaker         # if not present install with: pip install logomaker"
   ]
  },
  {
   "cell_type": "markdown",
   "id": "168ddbd0",
   "metadata": {},
   "source": [
    "## Parameters of the problem"
   ]
  },
  {
   "cell_type": "code",
   "execution_count": 45,
   "id": "ede5fdec",
   "metadata": {},
   "outputs": [],
   "source": [
    "# These are global variables to be used throughout the notebook\n",
    "num_sequences = 50\n",
    "sequence_length = 100\n",
    "motif_length = 8\n",
    "alpha = 1 # this alpha is used when estimating the motif"
   ]
  },
  {
   "cell_type": "markdown",
   "id": "c7239023",
   "metadata": {},
   "source": [
    "## Initialize the random number generator"
   ]
  },
  {
   "cell_type": "code",
   "execution_count": 46,
   "id": "66f54f31",
   "metadata": {},
   "outputs": [],
   "source": [
    "random_seed = 2023\n",
    "rng = np.random.default_rng(random_seed)"
   ]
  },
  {
   "cell_type": "markdown",
   "id": "bce5816d",
   "metadata": {},
   "source": [
    "# 1. Generate the data"
   ]
  },
  {
   "cell_type": "markdown",
   "id": "b4f5b585",
   "metadata": {},
   "source": [
    "## Data generating functions"
   ]
  },
  {
   "cell_type": "code",
   "execution_count": null,
   "id": "21652757",
   "metadata": {},
   "outputs": [],
   "source": [
    "def sample_motif(motif_length=motif_length, alpha=0.1):\n",
    "    \"\"\"\n",
    "    Sample a motif from the dirichlet distribution\n",
    "    \"\"\"\n",
    "    return *** # fill using rng.dirichlet() \n",
    "\n",
    "        \n",
    "def sample_sequence_from_motif(motif):\n",
    "    \"\"\"\n",
    "    Sample an instance of the motif from the distribution defined by the motif\n",
    "    \"\"\"\n",
    "    # Initialize the sequence array\n",
    "    motif_sequence = np.zeros(motif_length, dtype=int)\n",
    "\n",
    "    # Draw each sequence element from motif\n",
    "    for k in range(motif_length):\n",
    "        motif_sequence[k] = *** # fill using rng.choice() \n",
    "\n",
    "    return motif_sequence\n",
    "    \n",
    "    \n",
    "def generate_sequences(motif):\n",
    "    \"\"\"\n",
    "    Sample a set of sequences, with a single instance of the motif \n",
    "    embedded at a random position in each sequence\n",
    "    \"\"\"        \n",
    "    # Initialize the sequences matrix with random bases\n",
    "    sequences = rng.integers(4, size=(num_sequences, sequence_length))\n",
    "\n",
    "    # Draw positions for motifs\n",
    "    positions = rng.integers(sequence_length - motif_length + 1, size=num_sequences)\n",
    "\n",
    "    # Per full sequence, draw from motif and insert\n",
    "    for n in range(num_sequences):\n",
    "        *** # replace the subsequence of length motif_length at positions[n] with a motif instance\n",
    "            \n",
    "    return sequences, positions"
   ]
  },
  {
   "cell_type": "markdown",
   "id": "e26be142",
   "metadata": {},
   "source": [
    "## Motif and sequence printing and drawing functions"
   ]
  },
  {
   "cell_type": "code",
   "execution_count": null,
   "id": "37601fe0",
   "metadata": {},
   "outputs": [],
   "source": [
    "def print_motif(motif):\n",
    "    \"\"\"\n",
    "    Print the motif array nicely\n",
    "    \"\"\"\n",
    "    with np.printoptions(precision=3, suppress=True):\n",
    "        print(motif)\n",
    "        \n",
    "\n",
    "def draw_motif(motif, title=\"\"):\n",
    "    \"\"\"\n",
    "    Draw a logo of the motif with logomaker\n",
    "    \"\"\"\n",
    "    # Make dataframe for logomake\n",
    "    df = pd.DataFrame(motif, columns=[\"A\", \"C\", \"G\", \"T\"])\n",
    "    df = logomaker.transform_matrix(df, from_type=\"probability\", to_type=\"information\")\n",
    "    logo = logomaker.Logo(df)\n",
    "\n",
    "    with warnings.catch_warnings():\n",
    "        warnings.simplefilter(\"ignore\") \n",
    "        logo.ax.set_title(title)\n",
    "        logo.ax.set_xlabel(\"Position\")\n",
    "        logo.ax.set_ylabel(\"Total information\")\n",
    "        logo.ax.set_ylim(0, np.log2(4))\n",
    "        logo.fig.show()\n",
    "\n",
    "        \n",
    "def cstr(s, color='black'):\n",
    "    return \"<text style='color:{};font-family:monospace;font-size:1em'>{}</text>\".format(color, s)\n",
    "\n",
    "def draw_sequences(sequences, positions=None):\n",
    "    \"\"\"\n",
    "    Show the sequences in nice text, optionally highlighting the motif positions in red\n",
    "    \"\"\"\n",
    "    text = \"\"\n",
    "    for n in range(len(sequences)):\n",
    "        row = \"\"\n",
    "        for s in sequences[n]:\n",
    "            row += \"ACGT\"[s]\n",
    "        row += \"\\n\"\n",
    "        \n",
    "        # If no positions to show, everything is black\n",
    "        if positions is None:                  \n",
    "            row = cstr(row, color='black')\n",
    "    \n",
    "        # Otherwise, color in red\n",
    "        else:\n",
    "            pos = positions[n]\n",
    "            row = \\\n",
    "                cstr(row[:pos], color=\"black\") + \\\n",
    "                cstr(row[pos:pos+motif_length], color=\"red\") + \\\n",
    "                cstr(row[pos+motif_length:], color=\"black\")\n",
    "        \n",
    "        text += row\n",
    "    \n",
    "    display(html_print(text))\n"
   ]
  },
  {
   "cell_type": "markdown",
   "id": "e4f3e95e",
   "metadata": {},
   "source": [
    "## An example of data generation\n",
    "Get the next two cells to run yourself, by fixing the code in the data generating functions above, then explore what happens as you vary alpha, e.g. to 0.5, 1, 5, perhaps 0.01.  Try each value several times."
   ]
  },
  {
   "cell_type": "code",
   "execution_count": 37,
   "id": "aa8b3b44",
   "metadata": {},
   "outputs": [
    {
     "name": "stdout",
     "output_type": "stream",
     "text": [
      "[[0.    0.495 0.054 0.45 ]\n",
      " [0.    0.99  0.009 0.   ]\n",
      " [0.    0.659 0.146 0.195]\n",
      " [0.187 0.056 0.009 0.748]\n",
      " [0.286 0.    0.674 0.039]\n",
      " [0.002 0.    0.    0.998]\n",
      " [0.009 0.    0.991 0.   ]\n",
      " [0.    0.    0.793 0.207]]\n"
     ]
    },
    {
     "data": {
      "image/png": "[encoded data removed]",
      "text/plain": [
       "<Figure size 1000x250 with 1 Axes>"
      ]
     },
     "metadata": {},
     "output_type": "display_data"
    }
   ],
   "source": [
    "M = sample_motif(alpha = 0.1)\n",
    "print_motif(M)\n",
    "draw_motif(M)"
   ]
  },
  {
   "cell_type": "code",
   "execution_count": 39,
   "id": "5d6ac300",
   "metadata": {},
   "outputs": [
    {
     "data": {
      "text/html": [
       "<text style='color:black;font-family:monospace;font-size:1em'>GCAT</text><text style='color:red;font-family:monospace;font-size:1em'>TCCTGTGG</text><text style='color:black;font-family:monospace;font-size:1em'>ATACCGGGTACTCATTATTGTGCCCGTCGACGCACGGGGCCTCGGTACATGATAAATTGGGACTGGACTCTGTTGTTAGTCTCAGTAT\n",
       "</text><text style='color:black;font-family:monospace;font-size:1em'>GTTCGCTATACTGGCGTAACTGTTGGAGAAGATCGCATCAATGA</text><text style='color:red;font-family:monospace;font-size:1em'>TCCTGTGG</text><text style='color:black;font-family:monospace;font-size:1em'>TCCTGCAAGATCTTAACGGCCGCTTGTAGCCGGGATGCGCCTGCAGAA\n",
       "</text><text style='color:black;font-family:monospace;font-size:1em'>AGCTAGTTGTTTGACCCTTATATCCGAGAACGAGCTCCCATCAGACATACTGACCACACTCTGGAAGAC</text><text style='color:red;font-family:monospace;font-size:1em'>CCGTGTGG</text><text style='color:black;font-family:monospace;font-size:1em'>CGTATGAGAAAACCGACTTTGCT\n",
       "</text><text style='color:black;font-family:monospace;font-size:1em'>GACCCTGCGACAAGAGCAATAATATTATATGAGTAAGAATGGACAGGGCTGCCTGGGACTGCGGTCACATCACGTTTCGGGGGGTGT</text><text style='color:red;font-family:monospace;font-size:1em'>GCTTGTGT</text><text style='color:black;font-family:monospace;font-size:1em'>GATGA\n",
       "</text><text style='color:black;font-family:monospace;font-size:1em'>TACAAGCTCCACGATCCCCTGTGAAT</text><text style='color:red;font-family:monospace;font-size:1em'>TCTTGTGT</text><text style='color:black;font-family:monospace;font-size:1em'>CCGACGTCACGGGGTCTTACTCTAGAATAGTCTACTACGTTGGCTCATTCACTGATGTTAGCATAA\n",
       "</text><text style='color:black;font-family:monospace;font-size:1em'>ACAAAGACATTGTCTCCGGGCCGTTTGACCTATCGTGTTTAACTGTGCGCTTGCCCTGATCATTCTGTGAGGAGTAACCTGAA</text><text style='color:red;font-family:monospace;font-size:1em'>TCCTGTGG</text><text style='color:black;font-family:monospace;font-size:1em'>CATAATAAT\n",
       "</text><text style='color:black;font-family:monospace;font-size:1em'>TAGGAGAGACTCCTTTAGTTACGGGTCACCATTTAAGCCACGTATGTGTAGGTACTCGTGATGTCACGACCGTCAGAGA</text><text style='color:red;font-family:monospace;font-size:1em'>TCCTATGG</text><text style='color:black;font-family:monospace;font-size:1em'>AGCGTTACATATT\n",
       "</text><text style='color:black;font-family:monospace;font-size:1em'>CCATGCTCTTCTTTAATCTGTAGTACCTCCTATGAGTGTCGGGTGATTCTCGGCCGAGAGGCGTCCAGAACAATGT</text><text style='color:red;font-family:monospace;font-size:1em'>CCTTGTGT</text><text style='color:black;font-family:monospace;font-size:1em'>TCACCATAGACGAGAG\n",
       "</text><text style='color:black;font-family:monospace;font-size:1em'>CGCTGTCAAAGTGGATTCTGACCGCGGGCCATCAGTGCGTGTTAT</text><text style='color:red;font-family:monospace;font-size:1em'>CCCTATGG</text><text style='color:black;font-family:monospace;font-size:1em'>CAGTGTGCAGAAATATCTTCGTCGAGGCTTATGTGATGGCAGCTTTG\n",
       "</text><text style='color:black;font-family:monospace;font-size:1em'>AACGCGCACTTACGACTGTCAATGAAATCAGGTGGAGCCAC</text><text style='color:red;font-family:monospace;font-size:1em'>TCTTGTGG</text><text style='color:black;font-family:monospace;font-size:1em'>CTCTCTTGACAATCGTACGAAGGCGAGACGGCGTACTTTGTCTTTTCACGT\n",
       "</text><text style='color:black;font-family:monospace;font-size:1em'>CAGAACTCCTCTGTCAAGTGTGGCACGGCGTCTCCAGTCTTGCTCCCTTGCACTGACGCAATTGCAAAAAGGTACTAAGC</text><text style='color:red;font-family:monospace;font-size:1em'>TCTTGTGG</text><text style='color:black;font-family:monospace;font-size:1em'>CATTGATCACCT\n",
       "</text><text style='color:black;font-family:monospace;font-size:1em'>ATAGGCAGAAGACGCCAGGCCACCATTAAGACTCGGCCCATCCGCGTAGGCT</text><text style='color:red;font-family:monospace;font-size:1em'>CCCAGTGG</text><text style='color:black;font-family:monospace;font-size:1em'>GTATTCTGTCAGTGTGGTTTAATCGGGTAATACCAGCGTA\n",
       "</text><text style='color:black;font-family:monospace;font-size:1em'>CCTGCGATAAGTTGGAGGCATATGGCCTTTGGTTCACCGCGC</text><text style='color:red;font-family:monospace;font-size:1em'>CCCTATGG</text><text style='color:black;font-family:monospace;font-size:1em'>GTACAATTTACCGCAGCGTCTTACTGGAGTGTAATTCCGCAGTTACGGTA\n",
       "</text><text style='color:black;font-family:monospace;font-size:1em'>AGTGGCGTACGAGTGGTTCTCTA</text><text style='color:red;font-family:monospace;font-size:1em'>CCCTTTGG</text><text style='color:black;font-family:monospace;font-size:1em'>TAGGACCACCATCTAGGAGAAAGAGCAATTTTTCGCCACGTACCCCGTGCTGCTCGCATCTCCCGATTC\n",
       "</text><text style='color:black;font-family:monospace;font-size:1em'>GAAGACTCGATGGCGTATCTATAAGCGA</text><text style='color:red;font-family:monospace;font-size:1em'>TCCTATGG</text><text style='color:black;font-family:monospace;font-size:1em'>CGTGCACCTTCATACGTTGGGGTTGGGCGGTGAGCTGTCGTGCAGTCAGCTACGGGTGGAGGTT\n",
       "</text><text style='color:black;font-family:monospace;font-size:1em'>AC</text><text style='color:red;font-family:monospace;font-size:1em'>CCTAGTGG</text><text style='color:black;font-family:monospace;font-size:1em'>CTACTCACATTGATACACCGATTAACACACCGTTTTCGCTAGTTCCTCCCTGGAGTTGTAGAATAAAGGGCTCAAACTGTTTCAGCCACG\n",
       "</text><text style='color:black;font-family:monospace;font-size:1em'>GGGTCCGAATTAGCTGCGATCGTCCCGAGATTGGATCCACATTGCCGAAAAGATGTCAAGTCGC</text><text style='color:red;font-family:monospace;font-size:1em'>CCGTATGT</text><text style='color:black;font-family:monospace;font-size:1em'>GCTTCGGGATGCAACCTACTAGAGATCC\n",
       "</text><text style='color:black;font-family:monospace;font-size:1em'>CCTACTGTCAGAGGCGGACGCGATTTGAGTTAATACTTCGGACTTCAGTTACTC</text><text style='color:red;font-family:monospace;font-size:1em'>TCCTGTGG</text><text style='color:black;font-family:monospace;font-size:1em'>AGTCCCTTCGATTATACACTAGGCTGCATGGCAGGATC\n",
       "</text><text style='color:black;font-family:monospace;font-size:1em'>AACTCTGCTAGAGGG</text><text style='color:red;font-family:monospace;font-size:1em'>CCCTGTGG</text><text style='color:black;font-family:monospace;font-size:1em'>CATAAGAATTTAGGGCGGGGGATCGTGCGACGGTCTCCACGCGCGTCGTCCCCCGGATAGGAATCGCCGCCGACTAC\n",
       "</text><text style='color:black;font-family:monospace;font-size:1em'>GCTAAATAACTCCACTTCGTTGAAAGCACCTTTGTGAAGACCCCCTGACCG</text><text style='color:red;font-family:monospace;font-size:1em'>CCCTGTGG</text><text style='color:black;font-family:monospace;font-size:1em'>TTGTACGGGTAATATGGCCAGGCCGAATCCTGAATACGCTT\n",
       "</text>"
      ],
      "text/plain": [
       "<IPython.core.display.HTML object>"
      ]
     },
     "metadata": {},
     "output_type": "display_data"
    }
   ],
   "source": [
    "sequences, positions = generate_sequences(M)\n",
    "draw_sequences(sequences[:20], positions)  # use without positions to show without highlighting"
   ]
  },
  {
   "cell_type": "markdown",
   "id": "78e63965",
   "metadata": {},
   "source": [
    "# 2. Expectation-Maximization"
   ]
  },
  {
   "cell_type": "markdown",
   "id": "14df7fde",
   "metadata": {},
   "source": [
    "## Calculate log-likelihood of data"
   ]
  },
  {
   "cell_type": "code",
   "execution_count": 23,
   "id": "d646dfa7",
   "metadata": {},
   "outputs": [],
   "source": [
    "def log_likelihood(sequences, motif):\n",
    "    \"\"\"\n",
    "    Calculate the log-likehood of the sequences given the motif, \n",
    "    integrating over all positions.\n",
    "    \"\"\"\n",
    "    # Initialize\n",
    "    ll = 0.0\n",
    "    max_position = sequence_length - motif_length + 1\n",
    "    constant_part = (1.0 / max_position) * (1.0/4)**(sequence_length - motif_length)\n",
    "    \n",
    "    # Per sequence, add the log-likelihood\n",
    "    for n in range(num_sequences):\n",
    "        pseq = 0.0\n",
    "        for i in range(max_position):\n",
    "            *** # add to pseq the probability of sequence n with motif at position i (several lines needed)\n",
    "        ll += np.log(pseq)\n",
    "                        \n",
    "    return ll\n",
    "        "
   ]
  },
  {
   "cell_type": "markdown",
   "id": "a48e9f28",
   "metadata": {},
   "source": [
    "## Expectation step"
   ]
  },
  {
   "cell_type": "code",
   "execution_count": 24,
   "id": "37ffec50",
   "metadata": {},
   "outputs": [],
   "source": [
    "def expectation_step(sequences, motif):\n",
    "    \"\"\"\n",
    "    Calculate the posterior probabilities of the motif being at each position in each sequence\n",
    "    \"\"\"\n",
    "    # Initialize\n",
    "    max_position = sequence_length - motif_length + 1\n",
    "    positions_posterior = np.zeros((num_sequences, max_position), dtype=float)\n",
    "    \n",
    "    # Per sequence, calculate the posterior\n",
    "    for n in range(num_sequences):\n",
    "        # Calculate the likelihood of each k-mer in the sequence \n",
    "        for i in range(max_position):\n",
    "            likelihood = 1.0\n",
    "            for k in range(motif_length):\n",
    "                *** # update the joint likelihood for position k in the motif\n",
    "            positions_posterior[n, i] = likelihood\n",
    "            \n",
    "        # Normalize the posteriors for sequence n to sum to 1\n",
    "        positions_posterior[n, :] /= positions_posterior[n, :].sum()\n",
    "        \n",
    "    return positions_posterior\n",
    "    "
   ]
  },
  {
   "cell_type": "markdown",
   "id": "598dbda6",
   "metadata": {},
   "source": [
    "## Maximization step"
   ]
  },
  {
   "cell_type": "code",
   "execution_count": 25,
   "id": "9857e67c",
   "metadata": {},
   "outputs": [],
   "source": [
    "def maximization_step(sequences, positions_posterior):\n",
    "    \"\"\"\n",
    "    Re-estimate the motif by summing expected counts using the posterior from the expectation_step\n",
    "    \"\"\"\n",
    "    # Initialize\n",
    "    max_position = sequence_length - motif_length + 1\n",
    "    motif_estimate = np.zeros((motif_length, 4), dtype=float)   \n",
    "    \n",
    "    # Add dirichlet prior\n",
    "    motif_estimate += alpha\n",
    "    \n",
    "    # Build the estimate\n",
    "    for k in range(motif_length):\n",
    "        for n in range(num_sequences):\n",
    "            for i in range(max_position):\n",
    "                # Which nucleotide is in the k-th position of the i-th k-mer \n",
    "                # in the n-th sequence?\n",
    "                j = sequences[n, i+k]\n",
    "                \n",
    "                # Update the respective estimate\n",
    "                motif_estimate[k, j] += positions_posterior[n, i]\n",
    "                \n",
    "        *** # Normalize the motif_estimates at k to sum to 1\n",
    "        \n",
    "    return motif_estimate\n",
    "        \n",
    "    "
   ]
  },
  {
   "cell_type": "markdown",
   "id": "e6e55e5c",
   "metadata": {},
   "source": [
    "## EM algorithm"
   ]
  },
  {
   "cell_type": "code",
   "execution_count": 26,
   "id": "d0c0299d",
   "metadata": {},
   "outputs": [],
   "source": [
    "def expectation_maximization(sequences, n_iterations, print_every=None):\n",
    "    \"\"\"\n",
    "    search for a maximum likelihood motif estimate by alternating expectation_ and maximisation_ steps\n",
    "    return the estimated motif, and the log likelihoods, position distributions and motifs at each step\n",
    "    \"\"\"\n",
    "    # Initialize the motif estimate randomly\n",
    "    est_motif = rng.random(size=(motif_length, 4))\n",
    "    est_motif /= est_motif.sum(axis=1)[:, np.newaxis]\n",
    "    \n",
    "    # Iterate E and M steps\n",
    "    lls = []\n",
    "    positions_posteriors = []\n",
    "    motifs = []\n",
    "    for n_iter in range(n_iterations):\n",
    "        # Print current log-likelihood\n",
    "        ll = log_likelihood(sequences, est_motif)\n",
    "        lls.append(ll)\n",
    "        if (print_every is not None) and (n_iter % print_every == 0):\n",
    "            print(f\"Iteration {n_iter}: LL = {ll}\")\n",
    "        \n",
    "        # E step\n",
    "        positions_posterior = expectation_step(sequences, est_motif)\n",
    "        positions_posteriors.append(positions_posterior)\n",
    "        \n",
    "        # M step\n",
    "        est_motif = maximization_step(sequences, positions_posterior)\n",
    "        motifs.append(est_motif)\n",
    "    \n",
    "    return est_motif, lls, positions_posteriors, motifs"
   ]
  },
  {
   "cell_type": "markdown",
   "id": "61e99d46",
   "metadata": {},
   "source": [
    "## Plot results"
   ]
  },
  {
   "cell_type": "code",
   "execution_count": 6,
   "id": "6f6a63cf",
   "metadata": {},
   "outputs": [],
   "source": [
    "def plot_results(iters,est_motif,lls,posteriors,motifs):\n",
    "    print (f\"LL with true motif {log_likelihood(sequences,M)}    LL with final estimated motif {lls[-1]}\")\n",
    "    \n",
    "    # plot the true and final estimated motifs\n",
    "    fig, axs = plt.subplots(1, 2, figsize=(12, 3))\n",
    "    draw_motif(M,ax=axs[0])\n",
    "    axs[0].set_title(\"True motif\")\n",
    "    draw_motif(est_motif,ax=axs[1])\n",
    "    axs[1].set_title(\"Final estimated motif\")\n",
    "    \n",
    "    if lls is not None:\n",
    "        # plot the log likelihoods\n",
    "        plt.figure()\n",
    "        plt.plot(lls)\n",
    "        plt.xlabel(\"# of iteration\")\n",
    "        plt.ylabel(\"log likelihood\")\n",
    "    \n",
    "        # plot heatmaps of the motif locations at given iterations\n",
    "        fig, axs = plt.subplots(1, len(iters), figsize=(20, 8))\n",
    "        for ax, n_iter in zip(axs, iters):\n",
    "            sns.heatmap(posteriors[n_iter][:,:], ax=ax, vmin=0, vmax=1);\n",
    "            ax.set_title(f\"Iteration # {n_iter}\")\n",
    "            ax.set_ylabel(\"Sequence #\")\n",
    "            ax.set_xlabel(\"Position\")\n",
    "    \n",
    "        # and below them the motifs\n",
    "        fig, axs = plt.subplots(1, len(iters), figsize=(20, 2))\n",
    "        for ax, n_iter in zip(axs, iters):\n",
    "            draw_motif(motifs[n_iter],ax=ax)"
   ]
  },
  {
   "cell_type": "markdown",
   "id": "9f7b2f29",
   "metadata": {},
   "source": [
    "## Run it!"
   ]
  },
  {
   "cell_type": "code",
   "execution_count": 27,
   "id": "950fc4ea",
   "metadata": {},
   "outputs": [
    {
     "name": "stdout",
     "output_type": "stream",
     "text": [
      "Iteration 0: LL = -12474.63297601841\n",
      "Iteration 10: LL = -12276.47242825952\n",
      "Iteration 20: LL = -12275.960848605662\n",
      "Iteration 30: LL = -12275.95592542859\n",
      "Iteration 40: LL = -12275.955595900123\n",
      "Iteration 50: LL = -12275.955567408797\n",
      "Iteration 60: LL = -12275.955564707981\n",
      "Iteration 70: LL = -12275.955564442505\n",
      "Iteration 80: LL = -12275.955564416046\n",
      "Iteration 90: LL = -12275.955564413389\n"
     ]
    }
   ],
   "source": [
    "est_motif, lls, positions_posteriors, motifs = expectation_maximization(sequences, 100, print_every=10)"
   ]
  },
  {
   "cell_type": "code",
   "execution_count": null,
   "id": "2d01c3a2",
   "metadata": {},
   "outputs": [],
   "source": [
    "plot_results([0,10,20,50],est_motif,lls,positions_posteriors,motifs)"
   ]
  },
  {
   "cell_type": "markdown",
   "id": "0be364f9",
   "metadata": {},
   "source": [
    "### Try running the following cell several times. In what ways does the output vary, and why?"
   ]
  },
  {
   "cell_type": "code",
   "execution_count": null,
   "id": "c8d6f628",
   "metadata": {},
   "outputs": [],
   "source": [
    "plot_results([], *expectation_maximization(sequences, 50, print_every=10))"
   ]
  },
  {
   "cell_type": "markdown",
   "id": "21553b51",
   "metadata": {},
   "source": [
    "### Now lets try making different motifs, with different prior Dirichlet alpha\n",
    "What seem to be constraints on the ability to find the motif?"
   ]
  },
  {
   "cell_type": "code",
   "execution_count": null,
   "id": "95378bb5",
   "metadata": {},
   "outputs": [],
   "source": [
    "M = sample_motif(alpha = 0.1)       # try alpha = 0.2, 0.5, 1, perhaps even more or less\n",
    "# if it hasn't converged correctly you could try generating more sequences by uncommenting/changing the next line\n",
    "# num_sequences = 100\n",
    "sequences, positions = generate_sequences(M)\n",
    "# and if it hasn't converged by 50 iterations you could increase the number 50 in the next line\n",
    "est_motif, lls, positions_posteriors, motifs = expectation_maximization(sequences, 50, print_every=10)\n",
    "plot_results([], est_motif, lls, positions_posteriors, motifs)"
   ]
  },
  {
   "cell_type": "markdown",
   "id": "dec5dc66",
   "metadata": {},
   "source": [
    "# 3. Monte-Carlo Markov Chain (MCMC)"
   ]
  },
  {
   "cell_type": "code",
   "execution_count": 28,
   "id": "d5fec7f6",
   "metadata": {},
   "outputs": [],
   "source": [
    "def log_likelihood_with_positions(sequences, positions, motif):\n",
    "\n",
    "    # Initialize\n",
    "    ll = 0.0\n",
    "    max_position = sequence_length - motif_length + 1\n",
    "    \n",
    "    # Per sequence, add the log-likelihood\n",
    "    for n in range(num_sequences):\n",
    "        p = 0.0\n",
    "        i = positions[n]\n",
    "        q = 1\n",
    "        for k in range(motif_length):\n",
    "            q *= motif[k, sequences[n, i + k]] \n",
    "        p += q\n",
    "        ll += np.log(p)\n",
    "                        \n",
    "    return ll"
   ]
  },
  {
   "cell_type": "code",
   "execution_count": 29,
   "id": "af2f4e59",
   "metadata": {},
   "outputs": [],
   "source": [
    "def gibbs_sample_position(sequences, est_motif):\n",
    "\n",
    "    max_position = sequence_length - motif_length + 1\n",
    "\n",
    "    # Draw new positions\n",
    "    positions_posterior = expectation_step(sequences, est_motif)\n",
    "    positions = np.zeros(len(sequences), dtype=int)\n",
    "    for n in range(num_sequences):\n",
    "        positions[n] = rng.choice(max_position, p=***) # fill in the distribution used to select the position\n",
    "        \n",
    "    return positions\n"
   ]
  },
  {
   "cell_type": "code",
   "execution_count": 30,
   "id": "f41826cd",
   "metadata": {},
   "outputs": [],
   "source": [
    "def calculate_posterior_dirichlet_parameters(alpha, sequences, positions, motif_length):\n",
    "\n",
    "    max_position = sequence_length - motif_length + 1\n",
    "    \n",
    "    # Calculate the posterior dirichlet parameters\n",
    "    posterior_parameters = np.ones((motif_length, 4), dtype=float) * alpha    \n",
    "    for k in range(motif_length):\n",
    "        for n in range(num_sequences):\n",
    "            a = sequences[n, positions[n] + k]\n",
    "            posterior_parameters[k,a] += 1            \n",
    "    \n",
    "    return posterior_parameters\n",
    "    "
   ]
  },
  {
   "cell_type": "code",
   "execution_count": 31,
   "id": "9de5d8e1",
   "metadata": {},
   "outputs": [],
   "source": [
    "def gibbs_sample_motif(alpha, sequences, est_positions, motif_length):\n",
    "\n",
    "    max_position = sequence_length - motif_length + 1\n",
    "    \n",
    "    # Calculate the dirichelt parameters\n",
    "    dirichlet_parameters = calculate_posterior_dirichlet_parameters(alpha, sequences, est_positions,motif_length)\n",
    "    \n",
    "    # Draw new motif from this distribution\n",
    "    est_motif = np.zeros((motif_length, 4), dtype=float)\n",
    "    for k in range(motif_length):\n",
    "        est_motif[k, :] = rng.dirichlet(***) # fill in the parameter set to sample from\n",
    "        \n",
    "    return est_motif\n",
    "    "
   ]
  },
  {
   "cell_type": "code",
   "execution_count": 32,
   "id": "cb23b853",
   "metadata": {},
   "outputs": [],
   "source": [
    "def metropolis_hastings_step(sequences, est_positions, est_motif, current_ll, max_position):\n",
    "\n",
    "    # Make new state\n",
    "    if rng.random() < 0.5:\n",
    "        # abcdefgh -> habcdefg\n",
    "        new_motif = np.roll(est_motif, 1, axis=0)\n",
    "        new_positions = (est_positions - 1) % max_position\n",
    "    else:\n",
    "        # abcdefgh -> bcdefgha\n",
    "        new_motif = np.roll(est_motif, -1, axis=0)\n",
    "        new_positions = (est_positions + 1) % max_position\n",
    "        \n",
    "    # Calculate likelihood of new state\n",
    "    new_ll = log_likelihood_with_positions(sequences, new_positions, new_motif)\n",
    "    \n",
    "    # Acceptance ratio\n",
    "    acceptance_ratio = min(1.0, np.exp(new_ll - current_ll))\n",
    "    \n",
    "    # Accept if needed\n",
    "    if rng.random() < acceptance_ratio:\n",
    "        return new_motif, new_positions, True\n",
    "    else:\n",
    "        return est_motif, est_positions, False\n",
    "        "
   ]
  },
  {
   "cell_type": "code",
   "execution_count": 33,
   "id": "c841aa81",
   "metadata": {},
   "outputs": [],
   "source": [
    "def mcmc_sampling(sequences, motif_length, alpha, n_iterations, with_shifts=False, print_every=None):\n",
    "\n",
    "    # Initialize the motif estimate randomly\n",
    "    est_motif = rng.random(size=(motif_length, 4))\n",
    "    est_motif /= est_motif.sum(axis=1)[:, np.newaxis]\n",
    "    \n",
    "    # Initialize positions\n",
    "    max_position = sequence_length - motif_length + 1\n",
    "    est_positions = rng.integers(max_position, size=num_sequences)\n",
    "        \n",
    "    # MCMC iterations\n",
    "    lls = []\n",
    "    states = []\n",
    "    all_shifted = []\n",
    "    for n_iter in range(n_iterations):\n",
    "        # Print current log-likelihood\n",
    "        states.append([est_motif, est_positions])\n",
    "        ll = log_likelihood_with_positions(sequences, est_positions, est_motif)\n",
    "        lls.append(ll)\n",
    "        if (print_every is not None) and (n_iter % print_every == 0):\n",
    "            print(f\"Iteration {n_iter}: LL = {ll}\")\n",
    "            \n",
    "        # Draw new positions\n",
    "        est_positions = gibbs_sample_position(sequences, est_motif)\n",
    "        \n",
    "        # Draw new motif\n",
    "        est_motif = gibbs_sample_motif(alpha, sequences, est_positions, motif_length)\n",
    "        \n",
    "        # Possible shift\n",
    "        if with_shifts:\n",
    "            est_motif, est_positions, shifted = metropolis_hastings_step(sequences, est_positions, est_motif,\n",
    "                                                                         ll, max_position)\n",
    "            all_shifted.append(shifted)\n",
    "        \n",
    "    return lls, all_shifted, states\n",
    "    "
   ]
  },
  {
   "cell_type": "markdown",
   "id": "20e3187a",
   "metadata": {},
   "source": [
    "## Run it several times, both with shifts off (default) and shifts on\n",
    "How do these results compare with the EM solutions?\n",
    "\n",
    "Look carefully at the log_likelihood values for the final solution. How are the final estimated motifs and their likelihoods different from those obtained by EM?\n",
    "\n",
    "What happens when we allow shift operations using Metropolis-Hastings?\n",
    "\n",
    "How does the number of iterations required compare with EM? What might be sensible numbers for the burn-in period and for taking random samples from the Markov chain? Maybe it would be interesting to try MCMC with a variety of motifs made with different values of alpha (remember to sample new sequences also when you make a new motif M)."
   ]
  },
  {
   "cell_type": "code",
   "execution_count": 35,
   "id": "a4d9ee5f",
   "metadata": {},
   "outputs": [
    {
     "name": "stdout",
     "output_type": "stream",
     "text": [
      "Iteration 0: LL = -1172.356092591531\n",
      "Iteration 100: LL = -384.28756071534895\n",
      "Iteration 200: LL = -371.3814429609945\n",
      "Iteration 300: LL = -364.9466621655399\n",
      "Iteration 400: LL = -367.1061482227456\n",
      "Iteration 500: LL = -376.23126881760754\n",
      "Iteration 600: LL = -369.950422490081\n",
      "Iteration 700: LL = -370.82672642893533\n",
      "Iteration 800: LL = -368.58333179911574\n",
      "Iteration 900: LL = -369.642915378636\n"
     ]
    }
   ],
   "source": [
    "est_motif, lls, states = mcmc_sampling(sequences, motif_length, alpha, 500, with_shifts=False, print_every=50)\n",
    "plot_results([],est_motif, lls, None, None)"
   ]
  }
 ],
 "metadata": {
  "kernelspec": {
   "display_name": "Python 3 (ipykernel)",
   "language": "python",
   "name": "python3"
  },
  "language_info": {
   "codemirror_mode": {
    "name": "ipython",
    "version": 3
   },
   "file_extension": ".py",
   "mimetype": "text/x-python",
   "name": "python",
   "nbconvert_exporter": "python",
   "pygments_lexer": "ipython3",
   "version": "3.9.13"
  }
 },
 "nbformat": 4,
 "nbformat_minor": 5
}

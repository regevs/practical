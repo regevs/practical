{
 "cells": [
  {
   "cell_type": "markdown",
   "id": "d07d9a8f",
   "metadata": {},
   "source": [
    "# MCB-IB Phylogenetics practical\n",
    "\n",
    "Here we will examine the phylogenetic relationships between great apes.  The data set includes two sequences from each of 12 populations: 2 humans, 3 gorilla, 1 bonobo and 4 chimpanzee and 2 orang-utan.\n",
    "\n",
    "We will use the internal BioPython.Phylo module functions to explore some basic properties, then run the more powerful iqtree software to explore maximum likelihood calculations.\n",
    "\n",
    "A side trip into the iqtree manual will demonstrate, we hope, that you have acquired enough background to understand at least in part a rich range of options.\n",
    "\n",
    "Finally we will investigate incomplete lineage sorting (ILS) in this data set, and in a corresponding data set simulated by iqtree from its best fit model."
   ]
  },
  {
   "cell_type": "markdown",
   "id": "8bec50f2",
   "metadata": {},
   "source": [
    "### First make sure external libraries are installed"
   ]
  },
  {
   "cell_type": "code",
   "execution_count": null,
   "id": "1118ecbc",
   "metadata": {},
   "outputs": [],
   "source": [
    "%%sh\n",
    "pip install biopython pandas seaborn scipy"
   ]
  },
  {
   "cell_type": "markdown",
   "id": "4dc6be49",
   "metadata": {},
   "source": [
    "### Load what we need"
   ]
  },
  {
   "cell_type": "code",
   "execution_count": null,
   "id": "e11ab608",
   "metadata": {},
   "outputs": [],
   "source": [
    "import numpy as np\n",
    "import pandas as pd\n",
    "import seaborn as sns\n",
    "import matplotlib.pyplot as plt\n",
    "from pathlib import Path\n",
    "\n",
    "from Bio import Phylo, AlignIO\n",
    "from Bio.Phylo.TreeConstruction import DistanceCalculator, DistanceTreeConstructor\n",
    "from Bio.Phylo.Consensus import *"
   ]
  },
  {
   "cell_type": "markdown",
   "id": "d69ec219",
   "metadata": {},
   "source": [
    "# Open MSA"
   ]
  },
  {
   "cell_type": "code",
   "execution_count": null,
   "id": "e639c9cf",
   "metadata": {},
   "outputs": [],
   "source": [
    "great_apes_msa = AlignIO.read(\"great_apes.phy\", format=\"phylip-relaxed\")"
   ]
  },
  {
   "cell_type": "markdown",
   "id": "1ba684a9",
   "metadata": {},
   "source": [
    "## Convert to a dictionary from ape name to pair of sequences\n",
    "For each individual there are two entries, e.g. Pongo_abelii-1 and Pongo_abelii-2.  We want to remove the final two characters."
   ]
  },
  {
   "cell_type": "code",
   "execution_count": null,
   "id": "c8f8df75",
   "metadata": {},
   "outputs": [],
   "source": [
    "great_ape_names = sorted(set([seq.id[:-2] for seq in great_apes_msa.alignment.sequences]))\n",
    "\n",
    "display(great_ape_names)"
   ]
  },
  {
   "cell_type": "code",
   "execution_count": null,
   "id": "6fe0aa04",
   "metadata": {},
   "outputs": [],
   "source": [
    "name_to_sequences = {}\n",
    "\n",
    "for name in great_ape_names:\n",
    "    name_to_sequences[name] = []\n",
    "\n",
    "for sequence in great_apes_msa.alignment.sequences:\n",
    "    name = sequence.id[:-2]\n",
    "    \n",
    "    name_to_sequences[name].append(sequence.seq)\n",
    "    "
   ]
  },
  {
   "cell_type": "code",
   "execution_count": null,
   "id": "bbe6260f",
   "metadata": {},
   "outputs": [],
   "source": [
    "display(name_to_sequences)"
   ]
  },
  {
   "cell_type": "markdown",
   "id": "3d8293d4",
   "metadata": {},
   "source": [
    "# Calculate pairwise divergences within species"
   ]
  },
  {
   "cell_type": "code",
   "execution_count": null,
   "id": "3152d12e",
   "metadata": {
    "scrolled": true
   },
   "outputs": [],
   "source": [
    "for name in great_ape_names:\n",
    "    seq1 = name_to_sequences[name][0]\n",
    "    seq2 = name_to_sequences[name][1]\n",
    "    \n",
    "    seq_length = len(seq1)\n",
    "    n_diffs = 0\n",
    "    for ***:\n",
    "        ***\n",
    "            \n",
    "    theta = n_diffs/seq_length\n",
    "            \n",
    "    print(f\"{name:40}{n_diffs}\\t{seq_length}\\t{theta}\")"
   ]
  },
  {
   "cell_type": "markdown",
   "id": "2da3e968",
   "metadata": {},
   "source": [
    "These numbers look a bit lower than we expect, e.g. Homo_sapiens_afr should be ~0.0012 and nonAfr ~0.0008. This is most likely a consequence of how these sites were chosen. We will proceed regardless. "
   ]
  },
  {
   "cell_type": "markdown",
   "id": "172ad163",
   "metadata": {},
   "source": [
    "# Calculate the distance matrix"
   ]
  },
  {
   "cell_type": "code",
   "execution_count": null,
   "id": "20087a88",
   "metadata": {},
   "outputs": [],
   "source": [
    "def view_distance_matrix(distance_matrix, return_matrix=False):\n",
    "    n_names = len(distance_matrix)\n",
    "    D = np.zeros((n_names, n_names))\n",
    "    for i in range(n_names):\n",
    "        D[i,:i+1] = distance_matrix.matrix[i]\n",
    "    D += D.T\n",
    "    names = np.array(distance_matrix.names).astype(str)\n",
    "    df = pd.DataFrame(data=D, index=names, columns=names)\n",
    "    \n",
    "    if return_matrix:\n",
    "        return df\n",
    "    \n",
    "    fig, ax = plt.subplots(figsize=(8,6))\n",
    "    sns.heatmap(df, vmin=0, square=True, ax=ax)\n",
    "    ax.set_title(\"Distance matrix\")\n",
    "    \n",
    "#     sns.clustermap(df)\n",
    "    \n",
    "    "
   ]
  },
  {
   "cell_type": "code",
   "execution_count": null,
   "id": "31c4205a",
   "metadata": {},
   "outputs": [],
   "source": [
    "print(DistanceCalculator.dna_models)"
   ]
  },
  {
   "cell_type": "code",
   "execution_count": null,
   "id": "7e0a5be7",
   "metadata": {},
   "outputs": [],
   "source": [
    "distance_matrix = DistanceCalculator('identity').get_distance(great_apes_msa)"
   ]
  },
  {
   "cell_type": "code",
   "execution_count": null,
   "id": "d6f8bf21",
   "metadata": {},
   "outputs": [],
   "source": [
    "view_distance_matrix(distance_matrix)\n"
   ]
  },
  {
   "cell_type": "markdown",
   "id": "cef2ef87",
   "metadata": {},
   "source": [
    "# Build a tree"
   ]
  },
  {
   "cell_type": "markdown",
   "id": "fa811dec",
   "metadata": {},
   "source": [
    "## Neighbor joining"
   ]
  },
  {
   "cell_type": "code",
   "execution_count": null,
   "id": "f93494aa",
   "metadata": {},
   "outputs": [],
   "source": [
    "NJ_constructor = DistanceTreeConstructor(DistanceCalculator('identity'), \"nj\")"
   ]
  },
  {
   "cell_type": "code",
   "execution_count": null,
   "id": "c9755d0a",
   "metadata": {},
   "outputs": [],
   "source": [
    "NJ_tree = NJ_constructor.build_tree(great_apes_msa)"
   ]
  },
  {
   "cell_type": "code",
   "execution_count": null,
   "id": "779cad0a",
   "metadata": {},
   "outputs": [],
   "source": [
    "fig, ax = plt.subplots(figsize=(15,10))\n",
    "Phylo.draw(NJ_tree, axes=ax)"
   ]
  },
  {
   "cell_type": "markdown",
   "id": "49a82bef",
   "metadata": {},
   "source": [
    "Why does this tree look different from the one we started with?\n",
    "\n",
    "Are all the sequence pairs from the same population neighbours?  Why might they not be?"
   ]
  },
  {
   "cell_type": "markdown",
   "id": "c866b4e3",
   "metadata": {},
   "source": [
    "## UPGMA"
   ]
  },
  {
   "cell_type": "code",
   "execution_count": null,
   "id": "a8d118ad",
   "metadata": {},
   "outputs": [],
   "source": [
    "UPGMA_constructor = DistanceTreeConstructor(DistanceCalculator('identity'), 'upgma')"
   ]
  },
  {
   "cell_type": "code",
   "execution_count": null,
   "id": "b3973e65",
   "metadata": {},
   "outputs": [],
   "source": [
    "UPGMA_tree = UPGMA_constructor.build_tree(great_apes_msa)"
   ]
  },
  {
   "cell_type": "code",
   "execution_count": null,
   "id": "91570622",
   "metadata": {},
   "outputs": [],
   "source": [
    "fig, ax = plt.subplots(figsize=(15,10))\n",
    "Phylo.draw(UPGMA_tree, axes=ax)"
   ]
  },
  {
   "cell_type": "code",
   "execution_count": null,
   "id": "050168d7",
   "metadata": {},
   "outputs": [],
   "source": []
  },
  {
   "cell_type": "markdown",
   "id": "2ac9a257",
   "metadata": {},
   "source": [
    "# Bootstrapping"
   ]
  },
  {
   "cell_type": "code",
   "execution_count": null,
   "id": "ff2429f5",
   "metadata": {},
   "outputs": [],
   "source": [
    "bootstrap_alns = list(bootstrap(great_apes_msa, 10))"
   ]
  },
  {
   "cell_type": "code",
   "execution_count": null,
   "id": "cfb7f611",
   "metadata": {
    "scrolled": false
   },
   "outputs": [],
   "source": [
    "for bootstrap_aln in bootstrap_alns[:3]:\n",
    "    fig, ax = plt.subplots(figsize=(15,10))\n",
    "    Phylo.draw(UPGMA_constructor.build_tree(bootstrap_aln), axes=ax)\n"
   ]
  },
  {
   "cell_type": "markdown",
   "id": "f602abd0",
   "metadata": {},
   "source": [
    "### Build on a shorter segment"
   ]
  },
  {
   "cell_type": "code",
   "execution_count": null,
   "id": "0db99324",
   "metadata": {
    "scrolled": false
   },
   "outputs": [],
   "source": [
    "for bootstrap_aln in bootstrap_alns[:3]:\n",
    "    shorter_aln = bootstrap_aln[:, :500]\n",
    "    \n",
    "    fig, ax = plt.subplots(figsize=(15,10))\n",
    "    Phylo.draw(NJ_constructor.build_tree(shorter_aln), axes=ax)\n"
   ]
  },
  {
   "cell_type": "markdown",
   "id": "b8a2c11e",
   "metadata": {},
   "source": [
    "## Run IQtree"
   ]
  },
  {
   "cell_type": "code",
   "execution_count": null,
   "id": "a77de01b",
   "metadata": {},
   "outputs": [],
   "source": [
    "%%sh\n",
    "iqtree2 -s ./great_apes.phy -B 1000 --redo"
   ]
  },
  {
   "cell_type": "markdown",
   "id": "aea59e33",
   "metadata": {},
   "source": [
    "## Open IQtree outputs"
   ]
  },
  {
   "cell_type": "markdown",
   "id": "501ba23c",
   "metadata": {},
   "source": [
    "### Maximum likelihood tree"
   ]
  },
  {
   "cell_type": "code",
   "execution_count": null,
   "id": "9ce1b8cf",
   "metadata": {},
   "outputs": [],
   "source": [
    "fig, ax = plt.subplots(figsize=(15,10))\n",
    "Phylo.draw(Phylo.read(\"./great_apes.phy.treefile\", \"newick\"), axes=ax)"
   ]
  },
  {
   "cell_type": "markdown",
   "id": "bc1e8320",
   "metadata": {},
   "source": [
    "Is this the same as the NJ and UPGMA trees?  What is different?\n",
    "\n",
    "Not all the bootstrap values are 100%, even with nearly 20,000 sites.  Why is that?"
   ]
  },
  {
   "cell_type": "markdown",
   "id": "e2ce1f40",
   "metadata": {},
   "source": [
    "### See ML distances"
   ]
  },
  {
   "cell_type": "code",
   "execution_count": null,
   "id": "b0756c3e",
   "metadata": {},
   "outputs": [],
   "source": [
    "mat = np.array([line.strip().split()[1:] for line in open(\"./great_apes.phy.mldist\").readlines()[1:]]).astype(float)\n",
    "    "
   ]
  },
  {
   "cell_type": "code",
   "execution_count": null,
   "id": "8785ee2d",
   "metadata": {},
   "outputs": [],
   "source": [
    "fig, ax = plt.subplots(1, 2, figsize=(15,7), sharey=True, sharex=True)\n",
    "\n",
    "sns.heatmap(\n",
    "    mat, \n",
    "    square=True, \n",
    "    ax=ax[0],\n",
    "    vmin=0,\n",
    "    vmax=0.03,\n",
    ")\n",
    "ax[0].set_title(\"Maximum Likelihood\");\n",
    "\n",
    "sns.heatmap(\n",
    "    view_distance_matrix(distance_matrix, return_matrix=True), \n",
    "    square=True, \n",
    "    ax=ax[1],\n",
    "    vmin=0,\n",
    "    vmax=0.03,\n",
    ")\n",
    "ax[1].set_title(\"Identity distance\");\n"
   ]
  },
  {
   "cell_type": "markdown",
   "id": "3d2aee19",
   "metadata": {},
   "source": [
    "# ILS\n",
    "\n",
    "Here we will explore incomplete lineage sorting within great ape ancestors.  We do this by looking at quartets of species such as (orang, (gorilla, (human, chimp))) and looking at sites which segregate 2:2.  If there is no ILS and there was only ever one mutation per site then we should see only the (orang, gorilla)(human, chimp) pattern.  If there is ILS as shown in the lectures, then we would see (equal numbers of) (orang, human)(gorilla, chimp) and (orang, chimp)(gorilla, human). Repeated mutations at the same site create noise.\n",
    "\n",
    "First, before we do the actual tests, we will ask iqtree to create a matching dataset to the one we are looking at, based on its best fit model.  This model doesn't know about within-population variation, so doesn't simulate ILS, but it can and will simulate recurrent mutations.\n",
    "\n",
    "(For the record, iqtree does in fact support models that allow for ILS, via the \"PoMo\" models.  You can look in the iqtree documentation for how to do this.)"
   ]
  },
  {
   "cell_type": "markdown",
   "id": "92af1ccd",
   "metadata": {},
   "source": [
    "## Simulate from the tree"
   ]
  },
  {
   "cell_type": "code",
   "execution_count": null,
   "id": "6d8f638c",
   "metadata": {},
   "outputs": [],
   "source": [
    "!iqtree2 -s ./great_apes.phy --alisim mimicked_MSA --redo"
   ]
  },
  {
   "cell_type": "markdown",
   "id": "a3d16404",
   "metadata": {},
   "source": [
    "## Create a new mapping from the names to the simulated sequences\n",
    "\n",
    "We need this in order to access the sequences"
   ]
  },
  {
   "cell_type": "code",
   "execution_count": null,
   "id": "6f4d0839",
   "metadata": {},
   "outputs": [],
   "source": [
    "great_apes_simulated_msa = AlignIO.read(\"mimicked_MSA.phy\", format=\"phylip-relaxed\")"
   ]
  },
  {
   "cell_type": "code",
   "execution_count": null,
   "id": "65c1d2e9",
   "metadata": {},
   "outputs": [],
   "source": [
    "sim_name_to_sequences = {}\n",
    "\n",
    "for name in great_ape_names:\n",
    "    sim_name_to_sequences[name] = []\n",
    "\n",
    "for sequence in great_apes_simulated_msa.alignment.sequences:\n",
    "    name = sequence.id[:-2]\n",
    "    \n",
    "    sim_name_to_sequences[name].append(sequence.seq)\n",
    "    "
   ]
  },
  {
   "cell_type": "markdown",
   "id": "58b44e48",
   "metadata": {},
   "source": [
    "## Define ILS function"
   ]
  },
  {
   "cell_type": "code",
   "execution_count": null,
   "id": "aa992e8d",
   "metadata": {},
   "outputs": [],
   "source": [
    "def ils_quartet(names, name_to_sequences):\n",
    "    # Check there are four names\n",
    "    assert len(names) == 4\n",
    "    \n",
    "    # Get the first sequence per name\n",
    "    sequences = []\n",
    "    for name in names:\n",
    "        sequences.append(name_to_sequences[name][0])\n",
    "        \n",
    "    # Sequence length\n",
    "    seq_length = len(sequences[0])\n",
    "    \n",
    "    # Pattern count - xxyy, xyxy or xyyx\n",
    "    patterns = [0, 0, 0]\n",
    "    \n",
    "    # Go through the positions one by one\n",
    "    for i in range(seq_length):\n",
    "        # Per position, check if there are 2 of each alleles, and which pattern\n",
    "        alleles = [seq[i] for seq in sequences]\n",
    "        \n",
    "        # First pattern\n",
    "        if (alleles[0] == alleles[1]) and *** and ***:\n",
    "            patterns[0] += 1\n",
    "\n",
    "        # Second pattern\n",
    "        if (alleles[0] == alleles[2]) and *** and ***:\n",
    "            patterns[1] += 1\n",
    "\n",
    "        # Third pattern\n",
    "        if (alleles[0] == alleles[3]) and *** and ***:\n",
    "            patterns[2] += 1\n",
    "            \n",
    "    return patterns\n",
    "\n",
    "# ['Gorilla_beringei_graueri',\n",
    "#  'Gorilla_gorilla_dielhi',\n",
    "#  'Gorilla_gorilla_gorilla',\n",
    "#  'Homo_sapiens_afr',\n",
    "#  'Homo_sapiens_nonAfr',\n",
    "#  'Pan_paniscus',\n",
    "#  'Pan_troglodytes_ellioti',\n",
    "#  'Pan_troglodytes_schweinfurthii',\n",
    "#  'Pan_troglodytes_troglodytes',\n",
    "#  'Pan_troglodytes_verus',\n",
    "#  'Pongo_abelii',\n",
    "#  'Pongo_pygmaeus']"
   ]
  },
  {
   "cell_type": "markdown",
   "id": "549548ab",
   "metadata": {},
   "source": [
    "## Run on the real data"
   ]
  },
  {
   "cell_type": "code",
   "execution_count": null,
   "id": "8d4cfbe7",
   "metadata": {},
   "outputs": [],
   "source": [
    "# Pattern count - xxyy, xyxy or xyyx\n",
    "ils_quartet(\n",
    "    [\n",
    "        'Pongo_abelii',\n",
    "        'Homo_sapiens_afr',\n",
    "        'Pan_troglodytes_ellioti',\n",
    "        'Gorilla_gorilla_gorilla',        \n",
    "    ],\n",
    "    name_to_sequences,\n",
    ")    "
   ]
  },
  {
   "cell_type": "markdown",
   "id": "38cf53b4",
   "metadata": {},
   "source": [
    "## Run on the simulated data"
   ]
  },
  {
   "cell_type": "code",
   "execution_count": null,
   "id": "ab4e91e7",
   "metadata": {},
   "outputs": [],
   "source": [
    "# Pattern count - xxyy, xyxy or xyyx\n",
    "ils_quartet(\n",
    "    [\n",
    "        'Pongo_abelii',\n",
    "        'Homo_sapiens_afr',\n",
    "        'Pan_troglodytes_ellioti',\n",
    "        'Gorilla_gorilla_gorilla',        \n",
    "    ],\n",
    "    sim_name_to_sequences,\n",
    ")    "
   ]
  },
  {
   "cell_type": "markdown",
   "id": "9fad8d59",
   "metadata": {},
   "source": [
    "The \"canonical\" pattern is the third: xyyx, which groups Pongo with Gorilla, and Homo with Pan.  This is what we see as the dominant value in the simulated data, for which there should be no ILS.  Why are there non-zero values in the first and second patterns?"
   ]
  },
  {
   "cell_type": "markdown",
   "id": "216f1081",
   "metadata": {},
   "source": [
    "Why might there be a high value for the first pattern (Pongo, Human)(Chimp, Gorilla)?  Hint (perhaps): maybe the human genome was privileged in some way in generating this data set?"
   ]
  },
  {
   "cell_type": "raw",
   "id": "6f69ecbf",
   "metadata": {},
   "source": [
    "Try other sets of four samples. Where might one expect to find strong ILS?  Can you see clearer evidence of it elsewhere?"
   ]
  },
  {
   "cell_type": "code",
   "execution_count": null,
   "id": "971efae8",
   "metadata": {},
   "outputs": [],
   "source": []
  }
 ],
 "metadata": {
  "kernelspec": {
   "display_name": "practical-2024",
   "language": "python",
   "name": "practical-2024"
  },
  "language_info": {
   "codemirror_mode": {
    "name": "ipython",
    "version": 3
   },
   "file_extension": ".py",
   "mimetype": "text/x-python",
   "name": "python",
   "nbconvert_exporter": "python",
   "pygments_lexer": "ipython3",
   "version": "3.11.7"
  }
 },
 "nbformat": 4,
 "nbformat_minor": 5
}

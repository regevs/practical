{
 "cells": [
  {
   "cell_type": "markdown",
   "id": "3bd535db",
   "metadata": {},
   "source": [
    "# 0. Preliminaries"
   ]
  },
  {
   "cell_type": "markdown",
   "id": "99ab6333",
   "metadata": {},
   "source": [
    "   ## Imports"
   ]
  },
  {
   "cell_type": "code",
   "execution_count": null,
   "id": "b4c26391",
   "metadata": {
    "scrolled": true
   },
   "outputs": [],
   "source": [
    "import numpy as np\n",
    "import matplotlib.pyplot as plt\n",
    "import pandas as pd\n",
    "import warnings\n",
    "from IPython.display import HTML as html_print\n",
    "import seaborn as sns    # for heatmaps\n",
    "import scipy.special as sp\n",
    "\n",
    "import logomaker         # if not present install with: pip install logomaker"
   ]
  },
  {
   "cell_type": "markdown",
   "id": "168ddbd0",
   "metadata": {},
   "source": [
    "## Parameters of the problem"
   ]
  },
  {
   "cell_type": "code",
   "execution_count": null,
   "id": "ede5fdec",
   "metadata": {},
   "outputs": [],
   "source": [
    "# These are global variables to be used throughout the notebook\n",
    "num_sequences = 50\n",
    "sequence_length = 100\n",
    "motif_length = 8\n",
    "max_position = sequence_length - motif_length + 1  # this will be needed in multiple places\n",
    "alpha = 0.2 # this alpha is used in the MCMC sampling"
   ]
  },
  {
   "cell_type": "markdown",
   "id": "c7239023",
   "metadata": {},
   "source": [
    "## Initialize the random number generator"
   ]
  },
  {
   "cell_type": "code",
   "execution_count": null,
   "id": "66f54f31",
   "metadata": {},
   "outputs": [],
   "source": [
    "random_seed = 2023\n",
    "rng = np.random.default_rng(random_seed)"
   ]
  },
  {
   "cell_type": "markdown",
   "id": "bce5816d",
   "metadata": {},
   "source": [
    "# 1. Generate and re-estimate motifs"
   ]
  },
  {
   "cell_type": "markdown",
   "id": "c3804d4b",
   "metadata": {},
   "source": [
    "## Functions to generate and view a motif\n",
    "We will represent the motif by a list length K of probability distributions over [0..3]"
   ]
  },
  {
   "cell_type": "code",
   "execution_count": null,
   "id": "ab702d4e",
   "metadata": {},
   "outputs": [],
   "source": [
    "def sample_motif(motif_length=motif_length, alpha=1):\n",
    "    \"\"\"\n",
    "    Create a motif from the dirichlet distribution\n",
    "    \"\"\"\n",
    "    return *** # fill using rng.dirichlet() \n",
    "\n",
    "def draw_motif(motif, title=\"\", ax=None):\n",
    "    \"\"\"\n",
    "    Draw a logo of the motif with logomaker\n",
    "    \"\"\"\n",
    "    with warnings.catch_warnings():\n",
    "        # suppress harmless warnings from logomaker\n",
    "        warnings.simplefilter(\"ignore\") \n",
    "    \n",
    "        # Make dataframe for logomake\n",
    "        df = pd.DataFrame(motif, columns=[\"A\", \"C\", \"G\", \"T\"])\n",
    "        df = logomaker.transform_matrix(df, from_type=\"probability\", to_type=\"information\")\n",
    "        logo = logomaker.Logo(df, ax=ax)\n",
    "\n",
    "        logo.ax.set_title(title)\n",
    "        # logo.ax.set_xlabel(\"Position\")\n",
    "        logo.ax.set_ylabel(\"Total information\")\n",
    "        logo.ax.set_ylim(0, np.log2(4))\n",
    "        logo.fig.show()\n",
    "        "
   ]
  },
  {
   "cell_type": "markdown",
   "id": "b1fea7f3",
   "metadata": {},
   "source": [
    "## Test out motif generation\n",
    "Get the next cell to run yourself, by fixing the code in sample_motif() function above, then explore what happens as you vary alpha, e.g. to 0.5, 1, 5, perhaps 0.01. Try each value several times."
   ]
  },
  {
   "cell_type": "code",
   "execution_count": null,
   "id": "d148971c",
   "metadata": {},
   "outputs": [],
   "source": [
    "M = sample_motif(alpha=0.2)\n",
    "# print out the motif nicely\n",
    "with np.printoptions(precision=3, suppress=True):\n",
    "    print(np.matrix.transpose(M))\n",
    "# draw the logo for the motif - we will use this function below to visualise motifs\n",
    "draw_motif(M)"
   ]
  },
  {
   "cell_type": "markdown",
   "id": "c1993538",
   "metadata": {},
   "source": [
    "## Next we generate some example instances from a motif\n",
    "The motifs we just made are probabilistic models of sequences of length K.  Here we generate several sequences from our current motif.  First you need to fill in the missing code in the function definition in the next cell, and run this to define the function. Then you can explore using it to sample instances of the motif. Try this with motifs made with different values of alpha (obtained by re-running the cell above with the desired value of alpha). Motifs made with smaller values of alpha should create more conserved sets of sample instances."
   ]
  },
  {
   "cell_type": "code",
   "execution_count": null,
   "id": "e319cbdb",
   "metadata": {},
   "outputs": [],
   "source": [
    "def sample_sequence_from_motif(motif):\n",
    "    \"\"\"\n",
    "    Sample an instance of the motif from the distribution defined by the motif\n",
    "    \"\"\"\n",
    "    # Initialize the sequence array\n",
    "    motif_sequence = np.zeros(motif_length, dtype=int)\n",
    "\n",
    "    # Draw each sequence element from motif\n",
    "    for k in range(motif_length):\n",
    "        motif_sequence[k] = *** # fill using rng.choice() - the distribution for site k is stored in motif[k,:]\n",
    "\n",
    "    return motif_sequence"
   ]
  },
  {
   "cell_type": "code",
   "execution_count": null,
   "id": "e5c5136c",
   "metadata": {},
   "outputs": [],
   "source": [
    "motif_sequences = []\n",
    "for i in range(1000):\n",
    "    seq = sample_sequence_from_motif(M)\n",
    "    if(i < 10):\n",
    "        for s in seq:\n",
    "            print (\"ACGT\"[s], end='')\n",
    "        print()\n",
    "    motif_sequences.append(seq)"
   ]
  },
  {
   "cell_type": "markdown",
   "id": "4fc5df16",
   "metadata": {},
   "source": [
    "## Re-estimate motif from sequences"
   ]
  },
  {
   "cell_type": "markdown",
   "id": "1aff7448",
   "metadata": {},
   "source": [
    "Given instances, we can re-estimate the motif by calculating the Bayesian posterior mean."
   ]
  },
  {
   "cell_type": "code",
   "execution_count": null,
   "id": "e4e162bb",
   "metadata": {},
   "outputs": [],
   "source": [
    "def posterior_mean_motif_from_sequences(sequences_list, alpha):\n",
    "    \"\"\"\n",
    "    Estimate the motif by updating the prior Dirichlet distribution with observed sequences.\n",
    "    \"\"\"\n",
    "    # Convert sequences argument from list to numpy array\n",
    "    sequences = np.array(sequences_list)\n",
    "    \n",
    "    # Initialize the motif array - each row corresponds to a position in the motif,\n",
    "    # with 4 columns per row for the probabilities of the four possible nucleotides\n",
    "    motif_estimate = np.zeros((motif_length, 4), dtype=float)   \n",
    "    \n",
    "    # Add dirichlet prior\n",
    "    motif_estimate += alpha\n",
    "    \n",
    "    # Build the estimate\n",
    "    for k in range(motif_length):\n",
    "        for n in range(len(sequences)):\n",
    "            # Which nucleotide is in the k-th position of the n-th sequence?\n",
    "            j = sequences[n, k]\n",
    "\n",
    "            # Update the respective estimate\n",
    "            motif_estimate[k, j] += 1\n",
    "                \n",
    "        # Normalise the motif probabilities, so each motif_estimate[k,:] sums to 1\n",
    "        ***\n",
    "        \n",
    "    return motif_estimate"
   ]
  },
  {
   "cell_type": "markdown",
   "id": "594632d5-0d43-439f-8f27-dd0000e0b07a",
   "metadata": {},
   "source": [
    "Here we re-estimate the motif, and calculate the KL divergence between our estimate and the true motif, also plotting them side by side.  How does the KL divergence vary as we change alpha, and also as we change the number of instances used (default :10 in the first line below)."
   ]
  },
  {
   "cell_type": "code",
   "execution_count": null,
   "id": "5dbcba06",
   "metadata": {},
   "outputs": [],
   "source": [
    "estimated_motif = posterior_mean_motif_from_sequences(motif_sequences[:10], 1)\n",
    "print(estimated_motif)\n",
    "# plot the estimated and true motifs\n",
    "fig, axs = plt.subplots(1, 2, figsize=(12, 3))\n",
    "draw_motif(estimated_motif, ax=axs[0])\n",
    "axs[0].set_title(\"Estimated motif\")\n",
    "draw_motif(M,ax=axs[1])\n",
    "axs[1].set_title(\"True motif\")\n",
    "print(\"Summed relative entropy (KL divergence): \", sp.rel_entr(M,estimated_motif).sum())"
   ]
  },
  {
   "attachments": {},
   "cell_type": "markdown",
   "id": "a5d559a9",
   "metadata": {},
   "source": [
    "# 2.\tGenerate long sequences, calculate the log likelihood and find posterior postion distribution"
   ]
  },
  {
   "cell_type": "markdown",
   "id": "e4f3e95e",
   "metadata": {},
   "source": [
    "## First, generate a set of long sequences that each incorporate one copy of the motif"
   ]
  },
  {
   "cell_type": "code",
   "execution_count": null,
   "id": "aa8b3b44",
   "metadata": {
    "scrolled": true
   },
   "outputs": [],
   "source": [
    "def generate_long_sequences(motif):\n",
    "    \"\"\"\n",
    "    Sample a set of sequences, with a single instance of the motif \n",
    "    embedded at a random position in each sequence\n",
    "    \"\"\"        \n",
    "    # Initialize the sequences matrix with random bases\n",
    "    # This matrix has a row per sequence, and the number of columns is the sequence length. The\n",
    "    # row contains the sequence encoded into 0,1,2 and 3.\n",
    "    sequences = rng.integers(4, size=(num_sequences, sequence_length))\n",
    "\n",
    "    # Draw positions for motifs - each position can be from 0 to sequence_length - motif_length.\n",
    "    # Draw one position per sequence.\n",
    "    positions = rng.integers(sequence_length - motif_length + 1, size=num_sequences)\n",
    "\n",
    "    # Per full sequence, draw from motif and insert\n",
    "    for n in range(num_sequences):\n",
    "        # replace the subsequence of length motif_length at positions[n] with a motif instance\n",
    "        ***\n",
    "             \n",
    "    return sequences, positions\n",
    "\n",
    "\n",
    "def cstr(s, color='black'):\n",
    "    return \"<text style='color:{};font-family:monospace;font-size:1em'>{}</text>\".format(color, s)\n",
    "\n",
    "def draw_sequences(sequences, positions=None):\n",
    "    \"\"\"\n",
    "    Show the sequences in nice text, optionally highlighting the motif positions in red\n",
    "    \"\"\"\n",
    "    text = \"\"\n",
    "    for n in range(len(sequences)):\n",
    "        row = \"\"\n",
    "        for s in sequences[n]:\n",
    "            row += \"ACGT\"[s]\n",
    "        row += \"\\n\"\n",
    "        \n",
    "        # If no positions to show, everything is black\n",
    "        if positions is None:                  \n",
    "            row = cstr(row, color='black')\n",
    "    \n",
    "        # Otherwise, color in red\n",
    "        else:\n",
    "            pos = positions[n]\n",
    "            row = \\\n",
    "                cstr(row[:pos], color=\"black\") + \\\n",
    "                cstr(row[pos:pos+motif_length], color=\"red\") + \\\n",
    "                cstr(row[pos+motif_length:], color=\"black\")\n",
    "        \n",
    "        text += row\n",
    "    \n",
    "    display(html_print(text))\n"
   ]
  },
  {
   "cell_type": "code",
   "execution_count": null,
   "id": "5d6ac300",
   "metadata": {},
   "outputs": [],
   "source": [
    "sequences, positions = generate_long_sequences(M)\n",
    "draw_sequences(sequences[:20], positions)  # use without positions to show without highlighting"
   ]
  },
  {
   "cell_type": "markdown",
   "id": "f807a23a",
   "metadata": {},
   "source": [
    "## What is the posterior distribution of a position given a sequence and motif?"
   ]
  },
  {
   "cell_type": "code",
   "execution_count": null,
   "id": "4fe296c7",
   "metadata": {},
   "outputs": [],
   "source": [
    "def posterior_position_given_sequence_and_motif(sequence, motif):\n",
    "    \n",
    "    # Initialize an array to hold the posterior distribution\n",
    "    posterior_distribution = np.zeros(max_position, dtype=float)\n",
    "    \n",
    "    # For each possible position...\n",
    "    for i in range(max_position):\n",
    "        prob = 1.0\n",
    "        # Calculate the probability of seeing the sequence given the motif\n",
    "        for k in range(motif_length):\n",
    "            # Multiply the probability of seeing the nucleotide at the k-th position according to the motif\n",
    "            prob *= motif[k, sequence[i+k]]\n",
    "            \n",
    "        # Save this probability\n",
    "        posterior_distribution[i] = prob\n",
    "        \n",
    "    # Normalize by the sum, to have a proper distribution\n",
    "    posterior_distribution /= posterior_distribution.sum()\n",
    "        \n",
    "    return posterior_distribution"
   ]
  },
  {
   "cell_type": "markdown",
   "id": "507bba55",
   "metadata": {},
   "source": [
    "### Test\n",
    "\n",
    "Try this with motifs and sequences made with different alpha values. But remember to go back to alpha = 0.2 before proceeding to the next section on MCMC."
   ]
  },
  {
   "cell_type": "code",
   "execution_count": null,
   "id": "1d4cab51",
   "metadata": {
    "scrolled": true
   },
   "outputs": [],
   "source": [
    "pp = posterior_position_given_sequence_and_motif(sequences[2], M)\n",
    "fig, ax = plt.subplots(figsize=(15, 3));\n",
    "ax.plot(pp, '.');\n",
    "ax.set_xlabel(\"Position in sequence\");\n",
    "ax.set_ylabel(\"Posterior prob.\");"
   ]
  },
  {
   "attachments": {},
   "cell_type": "markdown",
   "id": "0efbb4d2-029c-464c-bc1e-3cc139f7e818",
   "metadata": {},
   "source": [
    "# 3. Markov chain Monte-Carlo (MCMC)\n",
    "\n",
    "As before we first define the necessary functions, with you having to fill in some missing fields to ensure that you read the code and understand what is being done.\n",
    "\n",
    "First we implement and test Gibbs sampling.  Then we add shift operations using a Metropolis acceptance test to preserve detailed balance.\n",
    "\n",
    "## 3.1. Gibbs Sampling"
   ]
  },
  {
   "cell_type": "code",
   "execution_count": null,
   "id": "9fbdd206",
   "metadata": {},
   "outputs": [],
   "source": [
    "def log_likelihood(sequences, motif):\n",
    "    \"\"\"\n",
    "    Calculate the log-likehood of the sequences given the motif, \n",
    "    integrating over all positions.\n",
    "    \"\"\"\n",
    "    # Initialize\n",
    "    ll = 0.0\n",
    "    constant_part = (1.0 / max_position) * (1.0/4)**(sequence_length - motif_length)\n",
    "    \n",
    "    # Per sequence, add the log-likelihood\n",
    "    for n in range(num_sequences):\n",
    "        pseq = 0.0\n",
    "        for i in range(max_position):\n",
    "            # add to pseq the probability of sequence n with motif at position i (several lines needed)\n",
    "            part = constant_part\n",
    "            for k in range(motif_length):\n",
    "                part *= motif[k, sequences[n, i + k]] \n",
    "            pseq += part\n",
    "        ll += np.log(pseq)\n",
    "                        \n",
    "    return ll"
   ]
  },
  {
   "cell_type": "code",
   "execution_count": null,
   "id": "107c275f",
   "metadata": {},
   "outputs": [],
   "source": [
    "def log_likelihood_with_positions(sequences, positions, motif):\n",
    "\n",
    "    # Initialize\n",
    "    ll = 0.0\n",
    "    \n",
    "    # Per sequence, add the log-likelihood\n",
    "    for n in range(num_sequences):\n",
    "        sequence = sequences[n]\n",
    "        start_position = positions[n]\n",
    "        \n",
    "        prob = 1.0\n",
    "        for k in range(motif_length):\n",
    "            prob *= motif[k, sequence[start_position + k]] \n",
    "            \n",
    "        ll += np.log(prob)\n",
    "                        \n",
    "    return ll"
   ]
  },
  {
   "cell_type": "code",
   "execution_count": null,
   "id": "af2f4e59",
   "metadata": {},
   "outputs": [],
   "source": [
    "def gibbs_sample_positions(sequences, estimated_motif):\n",
    "\n",
    "    # Initialize an array to hold the new positions, per sequence\n",
    "    positions = np.zeros(len(sequences), dtype=int)\n",
    "    \n",
    "    # Per sequence, draw a new position:\n",
    "    for n in range(num_sequences):\n",
    "        # Get the posterior distribution over positions, for this sequence\n",
    "        sequence = sequences[n]\n",
    "        positions_posterior = posterior_position_given_sequence_and_motif(sequence, estimated_motif)\n",
    "        \n",
    "        # Draw the new position from the posterior\n",
    "        positions[n] = rng.choice(max_position, p=***) # fill in the distribution used to select the position\n",
    "        \n",
    "    return positions\n"
   ]
  },
  {
   "cell_type": "code",
   "execution_count": null,
   "id": "9de5d8e1",
   "metadata": {},
   "outputs": [],
   "source": [
    "def gibbs_sample_motif(alpha, sequences, positions, motif_length):\n",
    "\n",
    "    # Calculate the dirichlet parameters\n",
    "    posterior_parameters = np.ones((motif_length, 4), dtype=float) * alpha    \n",
    "    for k in range(motif_length):\n",
    "        for n in range(num_sequences):\n",
    "            a = sequences[n, positions[n] + k]\n",
    "            posterior_parameters[k, a] += 1         \n",
    "    \n",
    "    # Draw new motif from this distribution\n",
    "    motif = np.zeros((motif_length, 4), dtype=float)\n",
    "    for k in range(motif_length):\n",
    "        motif[k, :] = rng.dirichlet(***) # fill in the parameter set to sample from\n",
    "        \n",
    "    return motif\n",
    "    "
   ]
  },
  {
   "cell_type": "code",
   "execution_count": null,
   "id": "c841aa81",
   "metadata": {},
   "outputs": [],
   "source": [
    "def mcmc_gibbs_sampling(sequences, motif_length, alpha, n_iterations, print_every=None):\n",
    "\n",
    "    # Initialize the motif estimate randomly with a new sample from a Dirichlet with default (broad) \n",
    "    sampled_motif = sample_motif()\n",
    "    \n",
    "    # Initialize random positions\n",
    "    sampled_positions = rng.integers(max_position, size=num_sequences)\n",
    "        \n",
    "    # MCMC iterations\n",
    "    lls = []\n",
    "    motifs = []\n",
    "    for n_iter in range(n_iterations):\n",
    "        # Store current motif and log-likelihood \n",
    "        motifs.append(estimated_motif)\n",
    "        ll = log_likelihood_with_positions(sequences, sampled_positions, sampled_motif)\n",
    "        lls.append(ll)\n",
    "        if (print_every is not None) and (n_iter % print_every == 0):\n",
    "            print(f\"Iteration {n_iter}: LL = {ll}\")\n",
    "            \n",
    "        # Sample new positions\n",
    "        sampled_positions = gibbs_sample_positions(sequences, sampled_motif)\n",
    "        \n",
    "        # Sample new motif\n",
    "        sampled_motif = gibbs_sample_motif(alpha, sequences, sampled_positions, motif_length)\n",
    "        \n",
    "    return sampled_motif, lls, motifs\n",
    "    "
   ]
  },
  {
   "cell_type": "code",
   "execution_count": null,
   "id": "e0a36057",
   "metadata": {},
   "outputs": [],
   "source": [
    "def plot_results(iters, est_motif, lls, posteriors, motifs, display_true=True):\n",
    "    if (display_true):\n",
    "        print (f\"LL with true motif {log_likelihood(sequences, M)}\")\n",
    "    print (f\"LL with final estimated motif {log_likelihood(sequences, est_motif)}\")\n",
    "       \n",
    "    if (display_true): # plot the true and final estimated motifs\n",
    "        fig, axs = plt.subplots(1, 2, figsize=(12, 3))\n",
    "        draw_motif(M, ax=axs[0])\n",
    "        axs[0].set_title(\"True motif\")\n",
    "        draw_motif(est_motif,ax=axs[1])\n",
    "        axs[1].set_title(\"Final estimated motif\")\n",
    "    else:\n",
    "        draw_motif(est_motif,title=\"Final estimated motif\")\n",
    "    \n",
    "    if lls is not None:\n",
    "        # plot the log likelihoods\n",
    "        plt.figure()\n",
    "        plt.plot(lls)\n",
    "        plt.xlabel(\"# of iteration\")\n",
    "        plt.ylabel(\"log likelihood\")\n",
    "    \n",
    "    # plot heatmaps of the motif locations at given iterations\n",
    "    if len(iters) > 0 and posteriors is not None:\n",
    "        fig, axs = plt.subplots(1, len(iters), figsize=(20, 8))\n",
    "        for ax, n_iter in zip(axs, iters):\n",
    "            sns.heatmap(posteriors[n_iter][:,:], ax=ax, vmin=0, vmax=1);\n",
    "            ax.set_title(f\"Iteration # {n_iter}\")\n",
    "            ax.set_ylabel(\"Sequence #\")\n",
    "            ax.set_xlabel(\"Position\")\n",
    "    \n",
    "    # and below them the motifs\n",
    "    if len(iters) > 0 and motifs is not None:\n",
    "        fig, axs = plt.subplots(1, len(iters), figsize=(20, 2))\n",
    "        for ax, n_iter in zip(axs, iters):\n",
    "            draw_motif(motifs[n_iter],ax=ax)"
   ]
  },
  {
   "cell_type": "markdown",
   "id": "20e3187a",
   "metadata": {},
   "source": [
    "## Run the Gibbs sampler several times\n",
    "\n",
    "Does it always converge? Does it always converge on the correct solution?\n",
    "\n",
    "How does its convergence depend on the number of sequences, or on value of alpha for the true motif (the cell two down is a handy place to change these values and sample a new motif and set of sequences)."
   ]
  },
  {
   "cell_type": "code",
   "execution_count": null,
   "id": "a4d9ee5f",
   "metadata": {},
   "outputs": [],
   "source": [
    "est_motif, lls, motifs = mcmc_gibbs_sampling(sequences, motif_length, alpha, 200, print_every=50)\n",
    "plot_results([0,25,50,100,199], est_motif, lls, None, motifs)"
   ]
  },
  {
   "cell_type": "code",
   "execution_count": null,
   "id": "54d970a3",
   "metadata": {},
   "outputs": [],
   "source": [
    "# this is a useful cell of code repeated from above that can be run to change the motif and sequences\n",
    "\n",
    "M = sample_motif(alpha = 0.2)       # try alpha = 0.2, 0.5, 1, perhaps even more\n",
    "# if it hasn't converged correctly you could try generating more sequences by uncommenting/changing the next line\n",
    "num_sequences = 100\n",
    "sequences, positions = generate_long_sequences(M)"
   ]
  },
  {
   "cell_type": "markdown",
   "id": "9484c645",
   "metadata": {},
   "source": [
    "## 3.2. Metropolis\n",
    "\n",
    "Here we add a Metropolis step to rotate the motif one position left or right.  Note that rotating it allows it to be reversible, helping ensure detailed balance.\n",
    "\n",
    "This time if we run the MCMC multiple times do we always converge on the same solution?  Are there any negatives to adding the extra step?"
   ]
  },
  {
   "cell_type": "code",
   "execution_count": 2,
   "id": "cb23b853",
   "metadata": {},
   "outputs": [
    {
     "ename": "SyntaxError",
     "evalue": "invalid syntax (788187989.py, line 25)",
     "output_type": "error",
     "traceback": [
      "\u001b[0;36m  Cell \u001b[0;32mIn[2], line 25\u001b[0;36m\u001b[0m\n\u001b[0;31m    if ***:  # insert acceptance test\u001b[0m\n\u001b[0m       ^\u001b[0m\n\u001b[0;31mSyntaxError\u001b[0m\u001b[0;31m:\u001b[0m invalid syntax\n"
     ]
    }
   ],
   "source": [
    "def metropolis_step(sequences, estimated_positions, estimated_motif, current_ll, max_position):\n",
    "    \n",
    "    max_position = sequence_length - motif_length + 1\n",
    "\n",
    "    # Make new state\n",
    "    if rng.random() < 0.5:\n",
    "        # abcdefgh -> habcdefg\n",
    "        new_motif = np.roll(estimated_motif, 1, axis=0)\n",
    "        new_positions = (estimated_positions - 1) % max_position\n",
    "    else:\n",
    "        # abcdefgh -> bcdefgha\n",
    "        new_motif = np.roll(estimated_motif, -1, axis=0)\n",
    "        new_positions = (estimated_positions + 1) % max_position\n",
    "        \n",
    "    # Calculate likelihood of new state\n",
    "    new_ll = log_likelihood_with_positions(sequences, new_positions, new_motif)\n",
    "    \n",
    "    # Acceptance probability\n",
    "    if new_ll > current_ll:\n",
    "        acceptance_probability = 1.0\n",
    "    else:\n",
    "        acceptance_probability = np.exp(new_ll - current_ll)\n",
    "    \n",
    "    # Accept if needed\n",
    "    if ***:  # insert acceptance test\n",
    "        return new_motif, new_positions, True\n",
    "    else:\n",
    "        return estimated_motif, estimated_positions, False\n",
    "        "
   ]
  },
  {
   "cell_type": "code",
   "execution_count": null,
   "id": "0e747e9c",
   "metadata": {},
   "outputs": [],
   "source": [
    "def mcmc_metropolis_sampling(sequences, motif_length, alpha, n_iterations, print_every=None):\n",
    "\n",
    "    rng = np.random.default_rng() # want new random number generator for each run when parallelized below\n",
    "    \n",
    "    # Initialize the motif estimate randomly\n",
    "    estimated_motif = rng.random(size=(motif_length, 4))\n",
    "    \n",
    "    # Divide each row by its sum\n",
    "    for k in range(motif_length):\n",
    "        total = 0\n",
    "        for i in range(4):\n",
    "            total += estimated_motif[k, i]\n",
    "        for i in range(4):\n",
    "            estimated_motif[k, i] /= total\n",
    "    \n",
    "    # Initialize random positions\n",
    "    max_position = sequence_length - motif_length + 1\n",
    "    estimated_positions = rng.integers(max_position, size=num_sequences)\n",
    "        \n",
    "    # MCMC iterations\n",
    "    lls = []\n",
    "    motifs = []\n",
    "    all_shifted = []\n",
    "    for n_iter in range(n_iterations):\n",
    "        # Print current log-likelihood\n",
    "        motifs.append(estimated_motif)\n",
    "        ll = log_likelihood_with_positions(sequences, estimated_positions, estimated_motif)\n",
    "        lls.append(ll)\n",
    "        if (print_every is not None) and (n_iter % print_every == 0):\n",
    "            print(f\"Iteration {n_iter}: LL = {ll}\")\n",
    "            \n",
    "        # Sample new positions\n",
    "        estimated_positions = gibbs_sample_positions(sequences, estimated_motif)\n",
    "        \n",
    "        # Sample new motif\n",
    "        estimated_motif = gibbs_sample_motif(alpha, sequences, estimated_positions, motif_length)\n",
    "        \n",
    "        # Possible shift\n",
    "        estimated_motif, estimated_positions, shifted = \\\n",
    "            metropolis_step(sequences, estimated_positions, estimated_motif, ll, max_position)\n",
    "        \n",
    "        all_shifted.append(shifted)\n",
    "        \n",
    "    return estimated_motif, lls, motifs\n",
    "    "
   ]
  },
  {
   "cell_type": "code",
   "execution_count": null,
   "id": "be3b69ef",
   "metadata": {},
   "outputs": [],
   "source": [
    "est_motif, lls, motifs = mcmc_metropolis_sampling(sequences, motif_length, alpha, 200, print_every=50)\n",
    "plot_results([0,25,50,100,199], est_motif, lls, None, motifs)"
   ]
  },
  {
   "cell_type": "markdown",
   "id": "302c6c50",
   "metadata": {},
   "source": [
    "# 4. Real data\n",
    "Here we will explore a real data set of 200 promoter sequences identified in [Serizay et al. (2020)](https://genome.cshlp.org/content/30/12/1752.long) as being active in genes with tissue-specific expression in the intestine of the nematode *C. elegans*."
   ]
  },
  {
   "cell_type": "code",
   "execution_count": null,
   "id": "43d0210d",
   "metadata": {},
   "outputs": [],
   "source": [
    "# First we upload the data set\n",
    "# pip install biopython\n",
    "import Bio.SeqIO\n",
    "\n",
    "fasta_sequences = Bio.SeqIO.parse(open(\"elegans_intestine.WS235.fa\"),'fasta')\n",
    "\n",
    "sequences = []\n",
    "for fasta in fasta_sequences:\n",
    "    s = str(fasta.seq)\n",
    "    table = s.maketrans('ACGT','0123')\n",
    "    s = s.translate(table)\n",
    "    s = np.array(list(s)).astype(int)\n",
    "    sequences.append(s)\n",
    "\n",
    "sequences = np.array(sequences)\n",
    "num_sequences, sequence_length = sequences.shape\n",
    "print(\"num_sequences\", num_sequences, \"sequence_length\", sequence_length)"
   ]
  },
  {
   "cell_type": "markdown",
   "id": "0937e548-ae20-4455-915e-1352d371fbbf",
   "metadata": {},
   "source": [
    "## Now we can run our MCMC program\n",
    "Try running it several times.\n",
    "\n",
    "It is likely that you will get different outcomes. This is because with real data there may be more than one pattern present, unlike in our simulations. Also unlike in our simulations, in real data the background model of a simple 0.25 probability per base is clearly over-simplified."
   ]
  },
  {
   "cell_type": "code",
   "execution_count": null,
   "id": "50f915fc-cc88-4e6e-ac4c-426a1eedd99e",
   "metadata": {},
   "outputs": [],
   "source": [
    "# try running this several times\n",
    "est_motif, lls, motifs = mcmc_metropolis_sampling(sequences, motif_length, alpha, 200, print_every=50)\n",
    "plot_results([0,25,50,100,199], est_motif, lls, None, motifs, display_true=False)"
   ]
  },
  {
   "cell_type": "markdown",
   "id": "a2863cac-b50c-4e75-91ae-c6ac68cbab8f",
   "metadata": {},
   "source": [
    "## Parallel search for high scoring motifs\n",
    "Because different random starts given different results, we will run 20 jobs in parallel, then sort the results by score.  You may get some runtime warnings in pink lines, which you can ignore.\n",
    "\n",
    "You will need to wait until you see \"Done 20 out of 20\" in order for all the jobs to finish, before sorting and printing in the next cell.  How many run at once depends on the computer you are working on.\n",
    "\n",
    "How many fundamentally different patterns do you find?"
   ]
  },
  {
   "cell_type": "code",
   "execution_count": null,
   "id": "c411332e",
   "metadata": {},
   "outputs": [],
   "source": [
    "# to find the top matches, run MCMC 20 times and sort the results by the log likelihood\n",
    "\n",
    "import joblib\n",
    "\n",
    "results = joblib.Parallel(n_jobs=-1,verbose=100)(   # this uses all available cores to parallelise\n",
    "    joblib.delayed(mcmc_metropolis_sampling)(sequences, motif_length, alpha, 200)\n",
    "        for i in range(20)\n",
    ")"
   ]
  },
  {
   "cell_type": "code",
   "execution_count": null,
   "id": "8d05c0d9",
   "metadata": {},
   "outputs": [],
   "source": [
    "# store just the final log likelihoods and motifs in list LLmotif, then sort\n",
    "\n",
    "LLmotif = []\n",
    "for R in results:\n",
    "    LLmotif.append([R[1][-1],R[0]])  # the final log likelihood and the motif\n",
    "from operator import itemgetter\n",
    "LLmotif.sort(key=itemgetter(0), reverse=True)\n",
    "for x in LLmotif:\n",
    "    draw_motif(x[1], title=f\"LL {x[0]}\")"
   ]
  },
  {
   "cell_type": "markdown",
   "id": "4888e6c5",
   "metadata": {},
   "source": [
    "## Compare to MEME\n",
    "\n",
    "This is [a link to the output of a MEME run](https://meme-suite.org/meme//opal-jobs/appMEME_5.5.416999974272851417702622/meme.html) on the same sequences, using default parameters in the OOPS (One Occurrence Per Sequence) mode.\n",
    "\n",
    "Are there similarities, or differences, between your high scoring motifs and the ones found by MEME? You should note that MEME is more sophisticated, searching both strands, with a background model that it learns from the data."
   ]
  },
  {
   "cell_type": "markdown",
   "id": "4e56960d",
   "metadata": {},
   "source": [
    "## Search in the JASPAR database using Tomtom\n",
    "\n",
    "The [JASPAR](https://jaspar.genereg.net/) database contains a curated set of previously established binding motif patterns for hundreds of transcription factors and species, including *C.elegans*.\n",
    "\n",
    "You can search it to find known patterns similar to motifs you have found using another program in the MEME suite, [TomTom](https://meme-suite.org/meme/tools/tomtom). \n",
    "\n",
    "To load your motifs found in from the worm intestine practical into TomTom, you need to first write them out as a file in MEME minimal format. Below we define code to do that, then give instructions to upload this file to the TomTom web site.\n",
    "    \n",
    "What does your lead pattern correspond to?  Remember that the sequence you obtain may be the reverse complement of what MEME finds (it searches both strands)."
   ]
  },
  {
   "cell_type": "code",
   "execution_count": null,
   "id": "ab708a2e",
   "metadata": {},
   "outputs": [],
   "source": [
    "def write_MEME_file(motifs, file_name=\"MCB.meme\", motif_name=\"MCB\"):\n",
    "    with open(file_name,'w') as f:\n",
    "        # write header\n",
    "        f.write(\"MEME version 5.5.0\\n\\n\")\n",
    "        f.write(\"ALPHABET= ACGT\\n\\n\")\n",
    "        f.write(\"strands: + -\\n\\n\")\n",
    "        # write motifs\n",
    "        count = 0\n",
    "        for m in motifs:\n",
    "            count = count + 1\n",
    "            f.write(f\"MOTIF {motif_name}-{count}\\n\\n\")\n",
    "            f.write(f\"letter-probability matrix: alength= 4 w= {motif_length}\\n\")\n",
    "            np.savetxt(f, m, delimiter=' ', fmt='%.4f')\n",
    "            f.write(\"\\n\")\n",
    "        f.close()\n",
    "    print(len(motifs), \"motifs written\")"
   ]
  },
  {
   "cell_type": "code",
   "execution_count": null,
   "id": "551bb827",
   "metadata": {},
   "outputs": [],
   "source": [
    "write_MEME_file([LLmotif[0][1], LLmotif[2][1]]) # list here the motifs you want, e.g. numbers 0 and 2 in the sorted list"
   ]
  },
  {
   "cell_type": "markdown",
   "id": "c0ab0141",
   "metadata": {},
   "source": [
    "## Search in TomTom\n",
    "* go to the [TomTom submission link](https://meme-suite.org/meme/tools/tomtom)\n",
    "* upload the file you have just written (called MCB.meme, unless you renamed it)\n",
    "* select the \"JASPAR (NON-REDUNDANT) DNA\" target motif database\n",
    "* select the \"JASPAR CORE (2022) nematodes\", unless you want to search all species, in which case leave it as \"JASPAR CORE\"\n",
    "* press \"Start search\"\n",
    "\n",
    "What do you find?"
   ]
  },
  {
   "cell_type": "markdown",
   "id": "b0d11abd",
   "metadata": {},
   "source": [
    "## Another promoter region file\n",
    "\n",
    "If you enjoyed that, and have time left, there is another file elegans_muscle.WS235.fa you can try, containing 200 promoter sequences from muscle genes, from the same paper."
   ]
  },
  {
   "cell_type": "code",
   "execution_count": null,
   "id": "ed5b9bc4",
   "metadata": {},
   "outputs": [],
   "source": []
  }
 ],
 "metadata": {
  "kernelspec": {
   "display_name": "bayes-23",
   "language": "python",
   "name": "bayes-23"
  },
  "language_info": {
   "codemirror_mode": {
    "name": "ipython",
    "version": 3
   },
   "file_extension": ".py",
   "mimetype": "text/x-python",
   "name": "python",
   "nbconvert_exporter": "python",
   "pygments_lexer": "ipython3",
   "version": "3.11.6"
  }
 },
 "nbformat": 4,
 "nbformat_minor": 5
}

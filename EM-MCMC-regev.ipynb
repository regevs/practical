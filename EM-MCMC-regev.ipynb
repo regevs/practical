{
 "cells": [
  {
   "cell_type": "markdown",
   "id": "99ab6333",
   "metadata": {},
   "source": [
    "# Imports"
   ]
  },
  {
   "cell_type": "code",
   "execution_count": 173,
   "id": "b4c26391",
   "metadata": {},
   "outputs": [],
   "source": [
    "import numpy as np\n",
    "import matplotlib.pyplot as plt\n",
    "import pandas as pd\n",
    "import warnings\n",
    "from IPython.display import HTML as html_print\n",
    "\n",
    "# Install with:\n",
    "#     pip install logomaker\n",
    "import logomaker"
   ]
  },
  {
   "cell_type": "markdown",
   "id": "18e20666",
   "metadata": {},
   "source": [
    "# Printing and visualization"
   ]
  },
  {
   "cell_type": "markdown",
   "id": "0f132898",
   "metadata": {},
   "source": [
    "## Print motif in text"
   ]
  },
  {
   "cell_type": "code",
   "execution_count": 174,
   "id": "df1051af",
   "metadata": {},
   "outputs": [],
   "source": [
    "def print_motif(motif):\n",
    "    \"\"\"\n",
    "    Print the motif array nicely.\n",
    "    \"\"\"\n",
    "    with np.printoptions(precision=3, suppress=True):\n",
    "        print(motif)"
   ]
  },
  {
   "cell_type": "markdown",
   "id": "ddb8c3c7",
   "metadata": {},
   "source": [
    "## Draw motif with logomaker"
   ]
  },
  {
   "cell_type": "code",
   "execution_count": 175,
   "id": "7cd00748",
   "metadata": {},
   "outputs": [],
   "source": [
    "def draw_motif(motif, title=\"\"):\n",
    "    \"\"\"\n",
    "    Draw a logo of the motif with logomaker.\n",
    "    \"\"\"\n",
    "    # Make dataframe for logomake\n",
    "    df = pd.DataFrame(motif, columns=[\"A\", \"C\", \"G\", \"T\"])\n",
    "    df = logomaker.transform_matrix(df, from_type=\"probability\", to_type=\"information\")\n",
    "    logo = logomaker.Logo(df)\n",
    "\n",
    "    with warnings.catch_warnings():\n",
    "        warnings.simplefilter(\"ignore\") \n",
    "        logo.ax.set_title(title)\n",
    "        logo.ax.set_xlabel(\"Position\")\n",
    "        logo.ax.set_ylabel(\"Total information\")\n",
    "        logo.ax.set_ylim(0, np.log2(4))\n",
    "        logo.fig.show()\n"
   ]
  },
  {
   "cell_type": "code",
   "execution_count": 176,
   "id": "cf36fb30",
   "metadata": {},
   "outputs": [],
   "source": [
    "def cstr(s, color='black'):\n",
    "    return \"<text style='color:{};font-family:monospace;font-size:1em'>{}</text>\".format(color, s)\n",
    "\n",
    "def draw_sequences(sequences, positions=None):\n",
    "    # Convert sequences to text\n",
    "    text = \"\"\n",
    "    for n in range(len(sequences)):\n",
    "        row = \"\"\n",
    "        for s in sequences[n]:\n",
    "            row += \"ACGT\"[s]\n",
    "        row += \"\\n\"\n",
    "        \n",
    "        # If no positions to show, everything is black\n",
    "        if positions is None:                  \n",
    "            row = cstr(row, color='black')\n",
    "    \n",
    "        # Otherwise, color in red\n",
    "        else:\n",
    "            pos = positions[n]\n",
    "            row = \\\n",
    "                cstr(row[:pos], color=\"black\") + \\\n",
    "                cstr(row[pos:pos+motif_length], color=\"red\") + \\\n",
    "                cstr(row[pos+motif_length:], color=\"black\")               \n",
    "        \n",
    "        \n",
    "        text += row\n",
    "    \n",
    "    display(html_print(text))\n"
   ]
  },
  {
   "cell_type": "markdown",
   "id": "a0265a05",
   "metadata": {},
   "source": [
    "# Parameters of the problem\n"
   ]
  },
  {
   "cell_type": "code",
   "execution_count": 177,
   "id": "53097b88",
   "metadata": {},
   "outputs": [],
   "source": [
    "# Those are global variables to be used throughout the notebook\n",
    "num_sequences = 90\n",
    "sequence_length = 100\n",
    "motif_length = 8\n",
    "alpha = 0.1"
   ]
  },
  {
   "cell_type": "markdown",
   "id": "f2b20f2c",
   "metadata": {},
   "source": [
    "### Initialize the random number generator"
   ]
  },
  {
   "cell_type": "code",
   "execution_count": 178,
   "id": "0bf57d71",
   "metadata": {},
   "outputs": [],
   "source": [
    "random_seed = 42\n",
    "rng = np.random.default_rng(random_seed)"
   ]
  },
  {
   "cell_type": "code",
   "execution_count": null,
   "id": "3aaf31aa",
   "metadata": {},
   "outputs": [],
   "source": []
  },
  {
   "cell_type": "markdown",
   "id": "bce5816d",
   "metadata": {},
   "source": [
    "# Generate the data"
   ]
  },
  {
   "cell_type": "markdown",
   "id": "70dab5c6",
   "metadata": {},
   "source": [
    "## Data generating functions"
   ]
  },
  {
   "cell_type": "code",
   "execution_count": 179,
   "id": "da3e629b",
   "metadata": {},
   "outputs": [],
   "source": [
    "def sample_motif(motif_length=motif_length, alpha=alpha):\n",
    "    \"\"\"\n",
    "    Draw a motif from the dirichlet distribution.\n",
    "    \"\"\"\n",
    "    return rng.dirichlet([alpha] * 4, motif_length)\n",
    "\n",
    "\n",
    "        \n",
    "def sample_sequence_from_motif(motif):\n",
    "    \"\"\"\n",
    "    Draw a subsequence from the distribution defined by the motif, and return it.\n",
    "    \"\"\"\n",
    "    # Initialize the sequence array\n",
    "    motif_sequence = np.zeros(motif_length, dtype=int)\n",
    "\n",
    "    # Draw each sequence element from motif\n",
    "    for k in range(motif_length):\n",
    "        motif_sequence[k] = rng.choice(4, size=1, p=motif[k, :])\n",
    "\n",
    "    return motif_sequence\n",
    "    \n",
    "    \n",
    "    \n",
    "def generate_sequences(motif):\n",
    "    \"\"\"\n",
    "    Draw a set of sequences, with a single motif subsequence embedded.\n",
    "    \"\"\"        \n",
    "    # Initialize the sequences matrix\n",
    "    sequences = rng.integers(4, size=(num_sequences, sequence_length))\n",
    "\n",
    "    # Draw positions for motifs\n",
    "    positions = rng.integers(sequence_length - motif_length + 1, size=num_sequences)\n",
    "\n",
    "    # Per full sequence, draw from motif and insert\n",
    "    for n in range(num_sequences):\n",
    "        sequences[n, positions[n]:positions[n] + motif_length] = sample_sequence_from_motif(motif)\n",
    "            \n",
    "    return sequences, positions\n",
    "\n"
   ]
  },
  {
   "cell_type": "markdown",
   "id": "f55e5726",
   "metadata": {},
   "source": [
    "## An example of data generation"
   ]
  },
  {
   "cell_type": "code",
   "execution_count": 180,
   "id": "aa8b3b44",
   "metadata": {},
   "outputs": [],
   "source": [
    "M = sample_motif()\n",
    "sequences, positions = generate_sequences(M)"
   ]
  },
  {
   "cell_type": "code",
   "execution_count": 181,
   "id": "242edefb",
   "metadata": {},
   "outputs": [
    {
     "data": {
      "image/png": "[encoded data removed]",
      "text/plain": [
       "<Figure size 720x180 with 1 Axes>"
      ]
     },
     "metadata": {
      "needs_background": "light"
     },
     "output_type": "display_data"
    }
   ],
   "source": [
    "draw_motif(M)    "
   ]
  },
  {
   "cell_type": "code",
   "execution_count": 182,
   "id": "7b98856e",
   "metadata": {},
   "outputs": [
    {
     "data": {
      "text/html": [
       "<text style='color:black;font-family:monospace;font-size:1em'>GGGGAGTCG</text><text style='color:red;font-family:monospace;font-size:1em'>TGTTCGGG</text><text style='color:black;font-family:monospace;font-size:1em'>TAATATCTCCGAGGTTGCCCTCACAAATGGCGATGTACGCCACACGGGCTACACTCTCGCCTTCTCGTCGCAACTACGAGCTG\n",
       "</text><text style='color:black;font-family:monospace;font-size:1em'>GACTATCGGCCGAG</text><text style='color:red;font-family:monospace;font-size:1em'>CGTACGTG</text><text style='color:black;font-family:monospace;font-size:1em'>ACACGAGAAGTACTTGCCGGCAATCCCTAACCGCCTAGGCTCTCGGTCCACTATGACGCAGGACAGGGTTCAGTTAAA\n",
       "</text><text style='color:black;font-family:monospace;font-size:1em'>AGGCCTCTTCATGCGGTCTTAAGACCTTATAGTTATAGCCATCGCCTAGGCC</text><text style='color:red;font-family:monospace;font-size:1em'>CGTACGGG</text><text style='color:black;font-family:monospace;font-size:1em'>TAGACGGTAACCTTCTCGCATAAACAAGTACGTGTGCATT\n",
       "</text><text style='color:black;font-family:monospace;font-size:1em'>AGAGTACAGTACTCACGGCTGCTTCAGGAGTAGAGCATAGATGTCCGTTAGACTCTCACGT</text><text style='color:red;font-family:monospace;font-size:1em'>CGCACGGG</text><text style='color:black;font-family:monospace;font-size:1em'>CTCAGTTCCGACATGTTTATACGCAATCCTA\n",
       "</text><text style='color:black;font-family:monospace;font-size:1em'>TTGAACGACAGAGAAATACGGGTCTCTGGTTTGACATAAAGGTCCAACTGTAATAACTGATTTTATCTGTGGGTGATGCGTTTCTCGGACA</text><text style='color:red;font-family:monospace;font-size:1em'>AGCACGGG</text><text style='color:black;font-family:monospace;font-size:1em'>C\n",
       "</text><text style='color:black;font-family:monospace;font-size:1em'>GCGCCCAGACTTGTTCTCCGTTCGATGGTGACAGAAGGGTTATGGAGGGAGTGATTATCGCTTTTTACGG</text><text style='color:red;font-family:monospace;font-size:1em'>CGTACGTT</text><text style='color:black;font-family:monospace;font-size:1em'>AGCCGGGTTTGCAGATTATAGA\n",
       "</text><text style='color:black;font-family:monospace;font-size:1em'>CGGCTTAGGCGTTTGCTCG</text><text style='color:red;font-family:monospace;font-size:1em'>AGTTCGAG</text><text style='color:black;font-family:monospace;font-size:1em'>CGCAGAGTTCTGCACGTAGTTCACTTGAACGAGGAACGTCCTCCCACGTGTGACTATGCTTAAGTAGAGGAGT\n",
       "</text><text style='color:black;font-family:monospace;font-size:1em'>TAA</text><text style='color:red;font-family:monospace;font-size:1em'>CGTTCGGG</text><text style='color:black;font-family:monospace;font-size:1em'>TCGTAAAAATGTTTACTAAGTTTATTGTTCACAAAGGGGGGATCATGAAACAGGTGGGAAGAAATCGCACATACTGCGTCGTGCAATGC\n",
       "</text><text style='color:black;font-family:monospace;font-size:1em'>CGGGCGCTAACGGCTCAATATCACGCTGCGTCACTATGGCTACCCCAAAGCGGGGGGG</text><text style='color:red;font-family:monospace;font-size:1em'>CGGACCTT</text><text style='color:black;font-family:monospace;font-size:1em'>GGGCTGTGGTATTGGGCTACGTCCAAAATTTAAC\n",
       "</text><text style='color:black;font-family:monospace;font-size:1em'>GCCAGCAGTACTGTCCGAAGGAGCGTATCTCCTGAGTCTGCAGATGCAGAC</text><text style='color:red;font-family:monospace;font-size:1em'>AGTTCGGT</text><text style='color:black;font-family:monospace;font-size:1em'>TGAGCTCCATTACCCTACAATTAGAACACTGGCAACATTTG\n",
       "</text><text style='color:black;font-family:monospace;font-size:1em'>GGCGTTGAGCGGTCTTCCGTGTCGCTCGATCCGCTGGAACTTGGCAACCACAGTGCCCAGGACCAGGGGTTGTCTTGTGGCTGTC</text><text style='color:red;font-family:monospace;font-size:1em'>CGTTCGGG</text><text style='color:black;font-family:monospace;font-size:1em'>GTGCTAT\n",
       "</text><text style='color:black;font-family:monospace;font-size:1em'>ACTGTGGCAACAGTTCTTTCCTACATGAAGGTCTCTAAACTACATGTGGTATG</text><text style='color:red;font-family:monospace;font-size:1em'>CGTTCGGG</text><text style='color:black;font-family:monospace;font-size:1em'>GATCATGCGGATCGTGGCACTGCTTTCGGCCACGTTAGA\n",
       "</text><text style='color:black;font-family:monospace;font-size:1em'>GCCGCTGTGCTCGAAGATTGGGACCTACCAACAACAGACCTGTCCC</text><text style='color:red;font-family:monospace;font-size:1em'>CGTACGGG</text><text style='color:black;font-family:monospace;font-size:1em'>CTCAGCTTCGTGAGGGACTACCAACTACAGCTGTGCTCTTGGCTGT\n",
       "</text><text style='color:black;font-family:monospace;font-size:1em'>CTCAAGCACGCTTGTCAATTGACAAAGA</text><text style='color:red;font-family:monospace;font-size:1em'>TGTACGAG</text><text style='color:black;font-family:monospace;font-size:1em'>TAGCTATGCATCCCACAACACTAAAGCCACCCGTCTGCACGATCTGCAGCATCACCTGAAGACA\n",
       "</text><text style='color:black;font-family:monospace;font-size:1em'>ATAATATA</text><text style='color:red;font-family:monospace;font-size:1em'>CGTACGGG</text><text style='color:black;font-family:monospace;font-size:1em'>AGGTCACTGGCATTTTCCATGCTGTTACGTACGTAGCAGCGCTATAGCCAGAGGTGCGTCATAGAATAGGAATGATCATAGTGG\n",
       "</text><text style='color:black;font-family:monospace;font-size:1em'>CAGTATCGAGACGACGACCGTTAAAGAATTTCGGAGGCTGGGTGCTGTACTGTAATCGCCTATTGCAGCACTCAGATTTTA</text><text style='color:red;font-family:monospace;font-size:1em'>CGTACGGG</text><text style='color:black;font-family:monospace;font-size:1em'>CCGAGGGGTTG\n",
       "</text><text style='color:black;font-family:monospace;font-size:1em'>CATTGTTTGAAACGCAATTCTGTTGCGCCGGGCCAGGTGCAACCCCTACACGACATGAAACTGTCCCATACGACCC</text><text style='color:red;font-family:monospace;font-size:1em'>AGTACGGG</text><text style='color:black;font-family:monospace;font-size:1em'>GCTAACACCTCTTTAT\n",
       "</text><text style='color:black;font-family:monospace;font-size:1em'>GTCTGACATCAGCAT</text><text style='color:red;font-family:monospace;font-size:1em'>AGTTCGGG</text><text style='color:black;font-family:monospace;font-size:1em'>CCAATCGGGGCTCTCATATAAGTCAATGACCATGAGCACAATGATGTGCGGGACACAATATATCGCCCGCGTCCACA\n",
       "</text><text style='color:black;font-family:monospace;font-size:1em'>ATACTTAACGTAACTACAATACTGACTCGGGATTATTGCCTATTGCGATCATGGATGTTAATGCC</text><text style='color:red;font-family:monospace;font-size:1em'>CGTACCTG</text><text style='color:black;font-family:monospace;font-size:1em'>ACCTACATGCCATGCCGGCCGGGACGT\n",
       "</text><text style='color:black;font-family:monospace;font-size:1em'>GCGAAGTTGATCCTGGCTCGTGACCTGCGGCCT</text><text style='color:red;font-family:monospace;font-size:1em'>CGTACGGG</text><text style='color:black;font-family:monospace;font-size:1em'>CAGCCGCCCCATACGAGGGCATCTAATTTTATGAATCTACCCGTTGATGGGTTGGGCCG\n",
       "</text>"
      ],
      "text/plain": [
       "<IPython.core.display.HTML object>"
      ]
     },
     "metadata": {},
     "output_type": "display_data"
    }
   ],
   "source": [
    "draw_sequences(sequences[:20], positions)"
   ]
  },
  {
   "cell_type": "code",
   "execution_count": null,
   "id": "72893fd6",
   "metadata": {},
   "outputs": [],
   "source": []
  },
  {
   "cell_type": "markdown",
   "id": "78e63965",
   "metadata": {},
   "source": [
    "# Expectation-Maximization"
   ]
  },
  {
   "cell_type": "markdown",
   "id": "14df7fde",
   "metadata": {},
   "source": [
    "## Calculate log-likelihood of data"
   ]
  },
  {
   "cell_type": "code",
   "execution_count": 162,
   "id": "d646dfa7",
   "metadata": {},
   "outputs": [],
   "source": [
    "def log_likelihood(\n",
    "    sequences,\n",
    "    motif\n",
    "):\n",
    "    \"\"\"\n",
    "    Calculate the log-likehood of the sequences given the motif, \n",
    "    integrating over all positions.\n",
    "    \"\"\"\n",
    "    # Initialize\n",
    "    ll = 0.0\n",
    "    max_position = sequence_length - motif_length + 1\n",
    "    C = (1.0 / max_position) * (1.0/4)**(sequence_length - motif_length)\n",
    "    \n",
    "    # Per sequence, add the log-likelihood\n",
    "    for n in range(num_sequences):\n",
    "        p = 0.0\n",
    "        for i in range(max_position):\n",
    "            q = C\n",
    "            for k in range(motif_length):\n",
    "                q *= motif[k, sequences[n, i + k]] \n",
    "            p += q\n",
    "        ll += np.log(p)\n",
    "                        \n",
    "    return ll\n",
    "        "
   ]
  },
  {
   "cell_type": "markdown",
   "id": "a48e9f28",
   "metadata": {},
   "source": [
    "## Expectation step"
   ]
  },
  {
   "cell_type": "code",
   "execution_count": 163,
   "id": "37ffec50",
   "metadata": {},
   "outputs": [],
   "source": [
    "def expectation_step(\n",
    "    sequences,\n",
    "    motif\n",
    "):\n",
    "    # Initialize\n",
    "    max_position = sequence_length - motif_length + 1\n",
    "    positions_posterior = np.zeros((num_sequences, max_position), dtype=float)\n",
    "    \n",
    "    # Per sequence, calculate the posterior\n",
    "    for n in range(num_sequences):\n",
    "        # Calculate the likelihood of each k-mer in the sequence \n",
    "        for i in range(max_position):\n",
    "            likelihood = 1.0\n",
    "            for k in range(motif_length):\n",
    "                likelihood *= motif[k, sequences[n, i + k]]\n",
    "            positions_posterior[n, i] = likelihood\n",
    "            \n",
    "        # Normalize\n",
    "        positions_posterior[n, :] /= positions_posterior[n, :].sum()\n",
    "        \n",
    "    return positions_posterior\n",
    "    "
   ]
  },
  {
   "cell_type": "markdown",
   "id": "598dbda6",
   "metadata": {},
   "source": [
    "## Maximization step"
   ]
  },
  {
   "cell_type": "code",
   "execution_count": 164,
   "id": "9857e67c",
   "metadata": {},
   "outputs": [],
   "source": [
    "def maximization_step(\n",
    "    sequences,\n",
    "    positions_posterior,\n",
    "):\n",
    "    # Initialize\n",
    "    max_position = sequence_length - motif_length + 1\n",
    "    motif_estimate = np.zeros((motif_length, 4), dtype=float)   \n",
    "    \n",
    "    # Add dirichlet prior\n",
    "    motif_estimate += alpha\n",
    "    \n",
    "    # Build the estimate\n",
    "    for k in range(motif_length):\n",
    "        for n in range(num_sequences):\n",
    "            for i in range(max_position):\n",
    "                # Which nucleotide is in the k-th position of the i-th k-mer \n",
    "                # in the n-th sequence?\n",
    "                j = sequences[n, i+k]\n",
    "                \n",
    "                # Update the respective estimate\n",
    "                motif_estimate[k, j] += positions_posterior[n, i]\n",
    "                \n",
    "        # Normalize\n",
    "        motif_estimate[k, :] /= motif_estimate[k, :].sum()\n",
    "                \n",
    "    return motif_estimate\n",
    "        \n",
    "    "
   ]
  },
  {
   "cell_type": "markdown",
   "id": "e6e55e5c",
   "metadata": {},
   "source": [
    "## EM algorithm"
   ]
  },
  {
   "cell_type": "code",
   "execution_count": 165,
   "id": "d0c0299d",
   "metadata": {},
   "outputs": [],
   "source": [
    "def expectation_maximization(\n",
    "    sequences,\n",
    "    n_iterations,\n",
    "    print_every=None,\n",
    "):\n",
    "    # Initialize the motif estimate randomly\n",
    "    est_motif = rng.random(size=(motif_length, 4))\n",
    "    est_motif /= est_motif.sum(axis=1)[:, np.newaxis]\n",
    "    \n",
    "    # Iterate E and M steps\n",
    "    lls = []\n",
    "    positions_posterior_matrices = []\n",
    "    for n_iter in range(n_iterations):\n",
    "        # Print current log-likelihood\n",
    "        ll = log_likelihood(sequences, est_motif)\n",
    "        lls.append(ll)\n",
    "        if (print_every is not None) and (n_iter % print_every == 0):\n",
    "            print(f\"Iteration {n_iter}: LL = {ll}\")\n",
    "        \n",
    "        # E step\n",
    "        positions_posterior = expectation_step(sequences, est_motif)\n",
    "        positions_posterior_matrices.append(positions_posterior)\n",
    "        \n",
    "        # M step\n",
    "        est_motif = maximization_step(sequences, positions_posterior)\n",
    "    \n",
    "    return est_motif, lls, positions_posterior_matrices"
   ]
  },
  {
   "cell_type": "markdown",
   "id": "9f7b2f29",
   "metadata": {},
   "source": [
    "## Run it!"
   ]
  },
  {
   "cell_type": "code",
   "execution_count": 166,
   "id": "950fc4ea",
   "metadata": {},
   "outputs": [
    {
     "name": "stdout",
     "output_type": "stream",
     "text": [
      "Iteration 0: LL = -12471.440384410167\n",
      "Iteration 10: LL = -12098.131625021537\n",
      "Iteration 20: LL = -12098.131624948754\n",
      "Iteration 30: LL = -12098.131624948754\n",
      "Iteration 40: LL = -12098.131624948754\n",
      "Iteration 50: LL = -12098.131624948754\n",
      "Iteration 60: LL = -12098.131624948754\n",
      "Iteration 70: LL = -12098.131624948754\n",
      "Iteration 80: LL = -12098.131624948754\n",
      "Iteration 90: LL = -12098.131624948754\n"
     ]
    }
   ],
   "source": [
    "est_motif, lls, positions_posterior_matrices = expectation_maximization(sequences, 100, print_every=10)"
   ]
  },
  {
   "cell_type": "code",
   "execution_count": null,
   "id": "ca501fbd",
   "metadata": {},
   "outputs": [],
   "source": []
  },
  {
   "cell_type": "code",
   "execution_count": null,
   "id": "ed9b6ee3",
   "metadata": {},
   "outputs": [],
   "source": []
  },
  {
   "cell_type": "code",
   "execution_count": null,
   "id": "8018d54e",
   "metadata": {},
   "outputs": [],
   "source": []
  },
  {
   "cell_type": "code",
   "execution_count": null,
   "id": "b6056d1a",
   "metadata": {},
   "outputs": [],
   "source": []
  },
  {
   "cell_type": "markdown",
   "id": "dec5dc66",
   "metadata": {},
   "source": [
    "# MCMC"
   ]
  },
  {
   "cell_type": "code",
   "execution_count": 136,
   "id": "d5fec7f6",
   "metadata": {},
   "outputs": [],
   "source": [
    "def log_likelihood_with_positions(\n",
    "    sequences,\n",
    "    positions,\n",
    "    motif,\n",
    "):\n",
    "    # Initialize\n",
    "    ll = 0.0\n",
    "    max_position = sequence_length - motif_length + 1\n",
    "    \n",
    "    # Per sequence, add the log-likelihood\n",
    "    for n in range(num_sequences):\n",
    "        p = 0.0\n",
    "        i = positions[n]\n",
    "        q = 1\n",
    "        for k in range(motif_length):\n",
    "            q *= motif[k, sequences[n, i + k]] \n",
    "        p += q\n",
    "        ll += np.log(p)\n",
    "                        \n",
    "    return ll"
   ]
  },
  {
   "cell_type": "code",
   "execution_count": 137,
   "id": "af2f4e59",
   "metadata": {},
   "outputs": [],
   "source": [
    "def gibbs_sample_position(\n",
    "    sequences,\n",
    "    est_motif,\n",
    "    rng,\n",
    "):\n",
    "    max_position = sequence_length - motif_length + 1\n",
    "\n",
    "    # Draw new positions\n",
    "    positions_posterior = expectation_step(sequences, est_motif)\n",
    "    positions = np.zeros(len(sequences), dtype=int)\n",
    "    for n in range(num_sequences):\n",
    "        positions[n] = rng.choice(max_position, p=positions_posterior[n])\n",
    "        \n",
    "    return positions\n"
   ]
  },
  {
   "cell_type": "code",
   "execution_count": 140,
   "id": "f41826cd",
   "metadata": {},
   "outputs": [],
   "source": [
    "def calculate_dirichlet_parameters(\n",
    "    alpha,\n",
    "    sequences,\n",
    "    est_positions,\n",
    "    motif_length,\n",
    "):\n",
    "    max_position = sequence_length - motif_length + 1\n",
    "    \n",
    "    # Calculate the dirichelt parameters\n",
    "    dirichlet_parameters = np.ones((motif_length, 4), dtype=float) * alpha    \n",
    "    for k in range(motif_length):\n",
    "        for n in range(num_sequences):\n",
    "            c = sequences[n, est_positions[n] + k]\n",
    "            dirichlet_parameters[k,c] += 1            \n",
    "    \n",
    "    return dirichlet_parameters\n",
    "    "
   ]
  },
  {
   "cell_type": "code",
   "execution_count": 139,
   "id": "9de5d8e1",
   "metadata": {},
   "outputs": [],
   "source": [
    "def gibbs_sample_motif(\n",
    "    alpha,\n",
    "    sequences,\n",
    "    est_positions,\n",
    "    motif_length,\n",
    "    rng,\n",
    "):\n",
    "    max_position = sequence_length - motif_length + 1\n",
    "    \n",
    "    # Calculate the dirichelt parameters\n",
    "    dirichlet_parameters = calculate_dirichlet_parameters(\n",
    "        alpha,\n",
    "        sequences,\n",
    "        est_positions,\n",
    "        motif_length,\n",
    "    )            \n",
    "    \n",
    "    # Draw new motif from this distribution\n",
    "    est_motif = np.zeros((motif_length, 4), dtype=float)\n",
    "    for k in range(motif_length):\n",
    "        est_motif[k, :] = rng.dirichlet(dirichlet_parameters[k])\n",
    "        \n",
    "    return est_motif\n",
    "    "
   ]
  },
  {
   "cell_type": "code",
   "execution_count": 145,
   "id": "cb23b853",
   "metadata": {},
   "outputs": [],
   "source": [
    "def metropolis_hastings_step(\n",
    "    sequences,\n",
    "    est_positions,\n",
    "    est_motif,    \n",
    "    current_ll,\n",
    "    max_position,\n",
    "    rng,\n",
    "):\n",
    "    # Make new state\n",
    "    if rng.random() < 0.5:\n",
    "        # abcdefgh -> habcdefg\n",
    "        new_motif = np.roll(est_motif, 1, axis=0)\n",
    "        new_positions = (est_positions - 1) % max_position\n",
    "    else:\n",
    "        # abcdefgh -> bcdefgha\n",
    "        new_motif = np.roll(est_motif, -1, axis=0)\n",
    "        new_positions = (est_positions + 1) % max_position\n",
    "        \n",
    "    # Calculate likelihood of new state\n",
    "    new_ll = log_likelihood_with_positions(sequences, new_positions, new_motif)\n",
    "    \n",
    "    # Acceptance ratio\n",
    "    acceptance_ratio = min(1.0, np.exp(new_ll - current_ll))\n",
    "    \n",
    "    # Accept if needed\n",
    "    if rng.random() < acceptance_ratio:\n",
    "        return new_motif, new_positions, True\n",
    "    else:\n",
    "        return est_motif, est_positions, False\n",
    "        "
   ]
  },
  {
   "cell_type": "code",
   "execution_count": null,
   "id": "bd618f9a",
   "metadata": {},
   "outputs": [],
   "source": []
  },
  {
   "cell_type": "code",
   "execution_count": 148,
   "id": "c841aa81",
   "metadata": {},
   "outputs": [],
   "source": [
    "def mcmc_sampling(\n",
    "    sequences,\n",
    "    motif_length,\n",
    "    alpha,\n",
    "    n_iterations,\n",
    "    with_shifts=True,\n",
    "    print_every=None,\n",
    "):\n",
    "    # Initialize the motif estimate randomly\n",
    "    est_motif = rng.random(size=(motif_length, 4))\n",
    "    est_motif /= est_motif.sum(axis=1)[:, np.newaxis]\n",
    "    \n",
    "    # Initialize positions\n",
    "    max_position = sequence_length - motif_length + 1\n",
    "    est_positions = rng.integers(max_position, size=num_sequences)\n",
    "        \n",
    "    # MCMC iterations\n",
    "    lls = []\n",
    "    states = []\n",
    "    all_shifted = []\n",
    "    for n_iter in range(n_iterations):\n",
    "        # Print current log-likelihood\n",
    "        states.append([est_motif, est_positions])\n",
    "        ll = log_likelihood_with_positions(sequences, est_positions, est_motif)\n",
    "        lls.append(ll)\n",
    "        if (print_every is not None) and (n_iter % print_every == 0):\n",
    "            print(f\"Iteration {n_iter}: LL = {ll}\")\n",
    "            \n",
    "        # Draw new positions\n",
    "        est_positions = gibbs_sample_position(sequences, est_motif, rng)\n",
    "        \n",
    "        # Draw new motif\n",
    "        est_motif = gibbs_sample_motif(\n",
    "            alpha,\n",
    "            sequences,\n",
    "            est_positions,\n",
    "            motif_length,\n",
    "            rng,\n",
    "        )\n",
    "        \n",
    "        # Possible shift\n",
    "        if with_shifts:\n",
    "            est_motif, est_positions, shifted = metropolis_hastings_step(\n",
    "                sequences,\n",
    "                est_positions,\n",
    "                est_motif,    \n",
    "                ll,\n",
    "                max_position,\n",
    "                rng,\n",
    "            )\n",
    "            all_shifted.append(shifted)\n",
    "        \n",
    "    return lls, all_shifted, states\n",
    "    \n",
    "\n",
    "    "
   ]
  },
  {
   "cell_type": "markdown",
   "id": "20e3187a",
   "metadata": {},
   "source": [
    "## Run it!"
   ]
  },
  {
   "cell_type": "code",
   "execution_count": 151,
   "id": "a4d9ee5f",
   "metadata": {},
   "outputs": [
    {
     "name": "stdout",
     "output_type": "stream",
     "text": [
      "Iteration 0: LL = -1082.6698011258447\n",
      "Iteration 100: LL = -142.19557900349406\n",
      "Iteration 200: LL = -150.87513469081338\n",
      "Iteration 300: LL = -139.53381366793988\n",
      "Iteration 400: LL = -140.58182575908856\n",
      "Iteration 500: LL = -138.40376602322175\n",
      "Iteration 600: LL = -139.3940582918625\n",
      "Iteration 700: LL = -140.1248579561142\n",
      "Iteration 800: LL = -146.59923418650172\n",
      "Iteration 900: LL = -137.5404761133705\n"
     ]
    }
   ],
   "source": [
    "lls, all_shifted, states = mcmc_sampling(\n",
    "    sequences,\n",
    "    K,\n",
    "    alpha,\n",
    "    1000,\n",
    "    with_shifts=True,\n",
    "    print_every=100,\n",
    ")"
   ]
  },
  {
   "cell_type": "code",
   "execution_count": null,
   "id": "971afd3f",
   "metadata": {},
   "outputs": [],
   "source": []
  },
  {
   "cell_type": "code",
   "execution_count": null,
   "id": "9a44b8b9",
   "metadata": {},
   "outputs": [],
   "source": []
  },
  {
   "cell_type": "code",
   "execution_count": null,
   "id": "9d3683ad",
   "metadata": {},
   "outputs": [],
   "source": []
  }
 ],
 "metadata": {
  "kernelspec": {
   "display_name": "Python 3 (ipykernel)",
   "language": "python",
   "name": "python3"
  },
  "language_info": {
   "codemirror_mode": {
    "name": "ipython",
    "version": 3
   },
   "file_extension": ".py",
   "mimetype": "text/x-python",
   "name": "python",
   "nbconvert_exporter": "python",
   "pygments_lexer": "ipython3",
   "version": "3.9.12"
  }
 },
 "nbformat": 4,
 "nbformat_minor": 5
}

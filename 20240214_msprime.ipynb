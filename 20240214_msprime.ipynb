{
 "cells": [
  {
   "cell_type": "code",
   "execution_count": 80,
   "id": "fbfab305",
   "metadata": {},
   "outputs": [],
   "source": [
    "import numpy as np\n",
    "import pandas as pd\n",
    "import seaborn as sns\n",
    "import matplotlib.pyplot as plt\n",
    "from pathlib import Path\n",
    "import msprime, collections, tskit\n",
    "import tempfile\n",
    "import scipy.stats\n",
    "\n",
    "from Bio import Phylo, AlignIO\n",
    "from Bio.Phylo.TreeConstruction import DistanceCalculator, DistanceTreeConstructor\n",
    "from Bio.Phylo.Consensus import *"
   ]
  },
  {
   "cell_type": "markdown",
   "id": "c138090a",
   "metadata": {},
   "source": [
    "# ILS"
   ]
  },
  {
   "cell_type": "code",
   "execution_count": 81,
   "id": "e4b3bdcb",
   "metadata": {},
   "outputs": [],
   "source": [
    "def ils_quartet(sequences):\n",
    "    # Check there are four names\n",
    "    assert len(sequences) == 4\n",
    "    \n",
    "    # Sequence length\n",
    "    seq_length = len(sequences[0])\n",
    "    \n",
    "    # Pattern count - xxyy, xyxy or xyyx\n",
    "    patterns = [0, 0, 0]\n",
    "    \n",
    "    # Go through the positions one by one\n",
    "    for i in range(seq_length):\n",
    "        # Per position, check if there are 2 of each alleles, and which pattern\n",
    "        alleles = [seq[i] for seq in sequences]\n",
    "        \n",
    "        # First pattern\n",
    "        if (alleles[0] == alleles[1]) and (alleles[2] == alleles[3]) and (alleles[0] != alleles[2]):\n",
    "            patterns[0] += 1\n",
    "\n",
    "        # Second pattern\n",
    "        if (alleles[0] == alleles[2]) and (alleles[1] == alleles[3]) and (alleles[0] != alleles[1]):\n",
    "            patterns[1] += 1\n",
    "\n",
    "        # Third pattern\n",
    "        if (alleles[0] == alleles[3]) and (alleles[1] == alleles[2]) and (alleles[0] != alleles[1]):\n",
    "            patterns[2] += 1\n",
    "            \n",
    "    return patterns"
   ]
  },
  {
   "cell_type": "markdown",
   "id": "1ed9d685",
   "metadata": {},
   "source": [
    "# Simulate without migration"
   ]
  },
  {
   "cell_type": "code",
   "execution_count": 82,
   "id": "80d46f7d",
   "metadata": {},
   "outputs": [],
   "source": [
    "great_apes_species_tree = \"(((human:6, chimp:6):4,gorilla:10):6,orang:16)\"\n",
    "\n",
    "great_apes_initial_size = collections.defaultdict(lambda: 50000)\n",
    "great_apes_initial_size.update({\n",
    "    \"human\": 20000, \n",
    "    \"chimp\": 50000, \n",
    "    \"gorilla\": 50000,\n",
    "})\n",
    "\n",
    "great_apes_demography = msprime.Demography.from_species_tree(\n",
    "    great_apes_species_tree, \n",
    "    great_apes_initial_size,\n",
    "    time_units=\"myr\",\n",
    "    generation_time=20,\n",
    ")"
   ]
  },
  {
   "cell_type": "code",
   "execution_count": 83,
   "id": "3865f11e",
   "metadata": {},
   "outputs": [],
   "source": [
    "ts = msprime.sim_ancestry(\n",
    "    samples={\"human\": 1, \"chimp\": 1, \"gorilla\": 1, \"orang\": 1},\n",
    "    ploidy=1,\n",
    "    demography=great_apes_demography,\n",
    "    sequence_length=int(1e7),\n",
    "    discrete_genome=True,\n",
    "    recombination_rate=1e-8,    \n",
    ")\n",
    "\n",
    "ts = msprime.sim_mutations(\n",
    "    tree_sequence=ts,\n",
    "    rate=1e-8,\n",
    "    model=\"jc69\",\n",
    "    discrete_genome=True,\n",
    ")"
   ]
  },
  {
   "cell_type": "code",
   "execution_count": 84,
   "id": "d8cc5848",
   "metadata": {},
   "outputs": [
    {
     "data": {
      "text/html": [
       "\n",
       "            <div>\n",
       "              <style>\n",
       "                .tskit-table thead tr th {text-align: left;padding: 0.5em 0.5em;}\n",
       "                .tskit-table tbody tr td {padding: 0.5em 0.5em;}\n",
       "                .tskit-table tbody tr td:first-of-type {text-align: left;}\n",
       "                .tskit-details-label {vertical-align: top; padding-right:5px;}\n",
       "                .tskit-table-set {display: inline-flex;flex-wrap: wrap;margin: -12px 0 0 -12px;width: calc(100% + 12px);}\n",
       "                .tskit-table-set-table {margin: 12px 0 0 12px;}\n",
       "                details {display: inline-block;}\n",
       "                summary {cursor: pointer; outline: 0; display: list-item;}\n",
       "              </style>\n",
       "              <div class=\"tskit-table-set\">\n",
       "                <div class=\"tskit-table-set-table\">\n",
       "                  <table class=\"tskit-table\">\n",
       "                    <thead>\n",
       "                      <tr>\n",
       "                        <th style=\"padding:0;line-height:21px;\">\n",
       "                          <img style=\"height: 32px;display: inline-block;padding: 3px 5px 3px 0;\" src=\"https://raw.githubusercontent.com/tskit-dev/administrative/main/tskit_logo.svg\"/>\n",
       "                          <a target=\"_blank\" href=\"https://tskit.dev/tskit/docs/latest/python-api.html#the-treesequence-class\"> Tree Sequence </a>\n",
       "                        </th>\n",
       "                      </tr>\n",
       "                    </thead>\n",
       "                    <tbody>\n",
       "                      <tr><td>Trees</td><td>37209</td></tr>\n",
       "                      <tr><td>Sequence Length</td><td>10000000.0</td></tr>\n",
       "                      <tr><td>Time Units</td><td>generations</td></tr>\n",
       "                      <tr><td>Sample Nodes</td><td>4</td></tr>\n",
       "                      <tr><td>Total Size</td><td>19.6 MiB</td></tr>\n",
       "                      <tr>\n",
       "                        <td>Metadata</td><td style=\"text-align: left;\">No Metadata</td></tr>\n",
       "                    </tbody>\n",
       "                  </table>\n",
       "                </div>\n",
       "                <div class=\"tskit-table-set-table\">\n",
       "                  <table class=\"tskit-table\">\n",
       "                    <thead>\n",
       "                      <tr>\n",
       "                        <th style=\"line-height:21px;\">Table</th>\n",
       "                        <th>Rows</th>\n",
       "                        <th>Size</th>\n",
       "                        <th>Has Metadata</th>\n",
       "                      </tr>\n",
       "                    </thead>\n",
       "                    <tbody>\n",
       "                    \n",
       "                  <tr>\n",
       "                    <td>Edges</td>\n",
       "                      <td>99370</td>\n",
       "                      <td>3.0 MiB</td>\n",
       "                      <td style=\"text-align: center;\">\n",
       "                        \n",
       "                      </td>\n",
       "                    </tr>\n",
       "                \n",
       "                  <tr>\n",
       "                    <td>Individuals</td>\n",
       "                      <td>4</td>\n",
       "                      <td>136 Bytes</td>\n",
       "                      <td style=\"text-align: center;\">\n",
       "                        \n",
       "                      </td>\n",
       "                    </tr>\n",
       "                \n",
       "                  <tr>\n",
       "                    <td>Migrations</td>\n",
       "                      <td>0</td>\n",
       "                      <td>8 Bytes</td>\n",
       "                      <td style=\"text-align: center;\">\n",
       "                        \n",
       "                      </td>\n",
       "                    </tr>\n",
       "                \n",
       "                  <tr>\n",
       "                    <td>Mutations</td>\n",
       "                      <td>258928</td>\n",
       "                      <td>9.1 MiB</td>\n",
       "                      <td style=\"text-align: center;\">\n",
       "                        \n",
       "                      </td>\n",
       "                    </tr>\n",
       "                \n",
       "                  <tr>\n",
       "                    <td>Nodes</td>\n",
       "                      <td>21897</td>\n",
       "                      <td>598.8 KiB</td>\n",
       "                      <td style=\"text-align: center;\">\n",
       "                        \n",
       "                      </td>\n",
       "                    </tr>\n",
       "                \n",
       "                  <tr>\n",
       "                    <td>Populations</td>\n",
       "                      <td>7</td>\n",
       "                      <td>472 Bytes</td>\n",
       "                      <td style=\"text-align: center;\">\n",
       "                        ✅\n",
       "                      </td>\n",
       "                    </tr>\n",
       "                \n",
       "                  <tr>\n",
       "                    <td>Provenances</td>\n",
       "                      <td>2</td>\n",
       "                      <td>3.6 KiB</td>\n",
       "                      <td style=\"text-align: center;\">\n",
       "                        \n",
       "                      </td>\n",
       "                    </tr>\n",
       "                \n",
       "                  <tr>\n",
       "                    <td>Sites</td>\n",
       "                      <td>255602</td>\n",
       "                      <td>6.1 MiB</td>\n",
       "                      <td style=\"text-align: center;\">\n",
       "                        \n",
       "                      </td>\n",
       "                    </tr>\n",
       "                \n",
       "                    </tbody>\n",
       "                  </table>\n",
       "                </div>\n",
       "              </div>\n",
       "            </div>\n",
       "            "
      ],
      "text/plain": [
       "<tskit.trees.TreeSequence at 0x157607090>"
      ]
     },
     "execution_count": 84,
     "metadata": {},
     "output_type": "execute_result"
    }
   ],
   "source": [
    "ts"
   ]
  },
  {
   "cell_type": "code",
   "execution_count": 20,
   "id": "c1cb49d5",
   "metadata": {},
   "outputs": [],
   "source": [
    "sequences = list(ts.haplotypes())"
   ]
  },
  {
   "cell_type": "markdown",
   "id": "97988722",
   "metadata": {},
   "source": [
    "# Simulate with migration"
   ]
  },
  {
   "cell_type": "code",
   "execution_count": 131,
   "id": "a2fff780",
   "metadata": {},
   "outputs": [],
   "source": [
    "migration_great_apes_demography = msprime.Demography.from_species_tree(\n",
    "    great_apes_species_tree, \n",
    "    great_apes_initial_size,\n",
    "    time_units=\"myr\",\n",
    "    generation_time=20,\n",
    ")\n",
    "\n",
    "migration_great_apes_demography.add_mass_migration(\n",
    "    time = 3e5/20,\n",
    "    source = \"human\",\n",
    "    dest = \"gorilla\",\n",
    "    proportion = 0.1,\n",
    ")\n",
    "\n",
    "migration_great_apes_demography.sort_events()\n",
    "\n"
   ]
  },
  {
   "cell_type": "code",
   "execution_count": 132,
   "id": "8ccae15e",
   "metadata": {},
   "outputs": [],
   "source": [
    "mts = msprime.sim_ancestry(\n",
    "    samples={\"human\": 1, \"chimp\": 1, \"gorilla\": 1, \"orang\": 1},\n",
    "    ploidy=1,\n",
    "    demography=migration_great_apes_demography,\n",
    "    sequence_length=int(1e6),\n",
    "    discrete_genome=True,\n",
    "    recombination_rate=1e-8,\n",
    "    record_migrations=True, \n",
    ")\n",
    "\n",
    "mts = msprime.sim_mutations(\n",
    "    tree_sequence=mts,\n",
    "    rate=1e-8,\n",
    "    model=\"jc69\",\n",
    "    discrete_genome=True,\n",
    ")"
   ]
  },
  {
   "cell_type": "code",
   "execution_count": 133,
   "id": "e411cdd2",
   "metadata": {},
   "outputs": [
    {
     "data": {
      "text/plain": [
       "5141"
      ]
     },
     "execution_count": 133,
     "metadata": {},
     "output_type": "execute_result"
    }
   ],
   "source": [
    "len(mts.migrations())"
   ]
  },
  {
   "cell_type": "code",
   "execution_count": 134,
   "id": "05cd2858",
   "metadata": {},
   "outputs": [],
   "source": [
    "migrated_sequences = list(mts.haplotypes())"
   ]
  },
  {
   "cell_type": "markdown",
   "id": "7bfbd250",
   "metadata": {},
   "source": [
    "# ABBA-BABA"
   ]
  },
  {
   "cell_type": "code",
   "execution_count": 135,
   "id": "e922caba",
   "metadata": {},
   "outputs": [
    {
     "name": "stdout",
     "output_type": "stream",
     "text": [
      "[19764, 201, 228]\n",
      "BinomTestResult(k=201, n=429, alternative='two-sided', statistic=0.46853146853146854, pvalue=0.2093220851757111)\n"
     ]
    }
   ],
   "source": [
    "# Pattern count - xxyy, xyxy or xyyx\n",
    "patterns = ils_quartet(sequences)\n",
    "print(patterns)\n",
    "print(scipy.stats.binomtest(patterns[1], patterns[1]+patterns[2]))"
   ]
  },
  {
   "cell_type": "code",
   "execution_count": 136,
   "id": "f4470fd5",
   "metadata": {},
   "outputs": [
    {
     "name": "stdout",
     "output_type": "stream",
     "text": [
      "[1721, 596, 25]\n",
      "BinomTestResult(k=596, n=621, alternative='two-sided', statistic=0.9597423510466989, pvalue=6.36754487974895e-143)\n"
     ]
    }
   ],
   "source": [
    "# Pattern count - xxyy, xyxy or xyyx\n",
    "patterns = ils_quartet(migrated_sequences)\n",
    "print(patterns)\n",
    "print(scipy.stats.binomtest(patterns[1], patterns[1]+patterns[2]))"
   ]
  },
  {
   "cell_type": "code",
   "execution_count": null,
   "id": "52be35af",
   "metadata": {},
   "outputs": [],
   "source": []
  },
  {
   "cell_type": "code",
   "execution_count": null,
   "id": "99692b22",
   "metadata": {},
   "outputs": [],
   "source": []
  }
 ],
 "metadata": {
  "kernelspec": {
   "display_name": "practical-2024",
   "language": "python",
   "name": "practical-2024"
  },
  "language_info": {
   "codemirror_mode": {
    "name": "ipython",
    "version": 3
   },
   "file_extension": ".py",
   "mimetype": "text/x-python",
   "name": "python",
   "nbconvert_exporter": "python",
   "pygments_lexer": "ipython3",
   "version": "3.11.7"
  }
 },
 "nbformat": 4,
 "nbformat_minor": 5
}

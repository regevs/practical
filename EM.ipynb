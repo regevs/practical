{
 "cells": [
  {
   "cell_type": "markdown",
   "id": "99ab6333",
   "metadata": {},
   "source": [
    "## Imports"
   ]
  },
  {
   "cell_type": "code",
   "execution_count": 155,
   "id": "b4c26391",
   "metadata": {},
   "outputs": [],
   "source": [
    "import numpy as np\n",
    "import matplotlib.pyplot as plt"
   ]
  },
  {
   "cell_type": "markdown",
   "id": "bce5816d",
   "metadata": {},
   "source": [
    "## Generate the data"
   ]
  },
  {
   "cell_type": "code",
   "execution_count": 156,
   "id": "aa8b3b44",
   "metadata": {},
   "outputs": [],
   "source": [
    "def draw_sequence_from_motif(motif, rng=None):\n",
    "    # Initialize the random number generator if needed\n",
    "    if rng is None:\n",
    "        rng = np.random.default_rng()\n",
    "    \n",
    "    # Initialize the sequence array\n",
    "    motif_length = motif.shape[0]\n",
    "    motif_sequence = np.zeros(K, dtype=int)\n",
    "    \n",
    "    # Draw each sequence element from motif\n",
    "    for k in range(motif_length):\n",
    "        motif_sequence[k] = rng.choice(4, size=1, p=motif[k, :])\n",
    "    return motif_sequence\n"
   ]
  },
  {
   "cell_type": "code",
   "execution_count": 157,
   "id": "242edefb",
   "metadata": {},
   "outputs": [],
   "source": [
    "def generate_sequences_with_single_motif(\n",
    "    num_sequences,\n",
    "    sequence_length,\n",
    "    motif,\n",
    "    rng=None,\n",
    "):\n",
    "    # Initialize the random number generator\n",
    "    if rng is None:\n",
    "        rng = np.random.default_rng()\n",
    "    if type(rng) == int:\n",
    "        rng = np.random.default_rng(rng)\n",
    "    \n",
    "    # Initialize the sequences matrix\n",
    "    sequences = rng.integers(4, size=(num_sequences, sequence_length))\n",
    "    \n",
    "    # Draw positions for motifs\n",
    "    motif_length = motif.shape[0]\n",
    "    positions = rng.integers(sequence_length - motif_length + 1, size=num_sequences)\n",
    "    \n",
    "    # Per full sequence, draw from motif and insert\n",
    "    for n in range(num_sequences):\n",
    "        sequences[n, positions[n]:positions[n]+motif_length] = draw_sequence_from_motif(motif, rng)\n",
    "    \n",
    "    return sequences, positions\n",
    "\n",
    "\n",
    "\n",
    "    "
   ]
  },
  {
   "cell_type": "code",
   "execution_count": 158,
   "id": "289d7bbb",
   "metadata": {},
   "outputs": [],
   "source": [
    "motif = np.array([\n",
    "    [0.4, 0.3, 0.2, 0.1],\n",
    "    [0.3, 0.3, 0.2, 0.2],\n",
    "    [0.9, 0, 0, 0.1],\n",
    "    [0.8, 0.1, 0.1, 0],\n",
    "    [0.3, 0.3, 0.2, 0.2],\n",
    "    [0.3, 0.3, 0.2, 0.2],\n",
    "    [0.08, 0.01, 0.01, 0.9],\n",
    "    [0, 0.2, 0, 0.8],    \n",
    "])\n",
    "\n",
    "K = motif.shape[0]\n",
    "N = 90\n",
    "L = 100\n",
    "\n",
    "sequences, positions = generate_sequences_with_single_motif(N, L, motif)"
   ]
  },
  {
   "cell_type": "markdown",
   "id": "78e63965",
   "metadata": {},
   "source": [
    "## EM functions"
   ]
  },
  {
   "cell_type": "markdown",
   "id": "14df7fde",
   "metadata": {},
   "source": [
    "### Calculate log-likelihood of data"
   ]
  },
  {
   "cell_type": "code",
   "execution_count": 159,
   "id": "d646dfa7",
   "metadata": {},
   "outputs": [],
   "source": [
    "def log_likelihood(\n",
    "    sequences,\n",
    "    motif\n",
    "):\n",
    "    # Initialize\n",
    "    ll = 0.0\n",
    "    num_sequences, sequence_length = sequences.shape\n",
    "    motif_length = len(motif)\n",
    "    max_position = sequence_length - motif_length + 1\n",
    "    C = (1.0 / max_position) * (1.0/4)**(sequence_length - motif_length)\n",
    "    \n",
    "    # Per sequemce, add the log-likelihood\n",
    "    for n in range(num_sequences):\n",
    "        p = 0.0\n",
    "        for i in range(max_position):\n",
    "            q = C\n",
    "            for k in range(motif_length):\n",
    "                q *= motif[k, sequences[n, i + k]] \n",
    "            p += q\n",
    "        ll += np.log(p)\n",
    "                        \n",
    "    return ll\n",
    "        "
   ]
  },
  {
   "cell_type": "markdown",
   "id": "a48e9f28",
   "metadata": {},
   "source": [
    "### Expectation step"
   ]
  },
  {
   "cell_type": "code",
   "execution_count": 160,
   "id": "37ffec50",
   "metadata": {},
   "outputs": [],
   "source": [
    "def expectation_step(\n",
    "    sequences,\n",
    "    motif\n",
    "):\n",
    "    # Initialize\n",
    "    num_sequences, sequence_length = sequences.shape\n",
    "    motif_length = len(motif)   \n",
    "    max_position = sequence_length - motif_length + 1\n",
    "    positions_posterior = np.zeros((num_sequences, max_position), dtype=float)\n",
    "    \n",
    "    # Per sequence, calculate the posterior\n",
    "    for n in range(num_sequences):\n",
    "        # Calculate the likelihood of each k-mer in the sequence \n",
    "        for i in range(max_position):\n",
    "            likelihood = 1.0\n",
    "            for k in range(motif_length):\n",
    "                likelihood *= motif[k, sequences[n, i + k]]\n",
    "            positions_posterior[n, i] = likelihood\n",
    "            \n",
    "        # Normalize\n",
    "        positions_posterior[n, :] /= positions_posterior[n, :].sum()\n",
    "        \n",
    "    return positions_posterior\n",
    "    "
   ]
  },
  {
   "cell_type": "markdown",
   "id": "598dbda6",
   "metadata": {},
   "source": [
    "### Maximization step"
   ]
  },
  {
   "cell_type": "code",
   "execution_count": 161,
   "id": "9857e67c",
   "metadata": {},
   "outputs": [],
   "source": [
    "def maximization_step(\n",
    "    sequences,\n",
    "    positions_posterior,\n",
    "    motif_length,\n",
    "):\n",
    "    # Initialize\n",
    "    num_sequences, sequence_length = sequences.shape\n",
    "    max_position = sequence_length - motif_length + 1\n",
    "    motif_estimate = np.zeros((motif_length, 4), dtype=float)    \n",
    "    \n",
    "    # Build the estimate\n",
    "    for k in range(motif_length):\n",
    "        for n in range(num_sequences):\n",
    "            for i in range(max_position):\n",
    "                # Which nucleotide is in the k-th position of the i-th k-mer \n",
    "                # in the n-th sequence?\n",
    "                j = sequences[n, i+k]\n",
    "                \n",
    "                # Update the respective estimate\n",
    "                motif_estimate[k, j] += positions_posterior[n, i]\n",
    "                \n",
    "        # Normalize\n",
    "        motif_estimate[k, :] /= motif_estimate[k, :].sum()\n",
    "                \n",
    "    return motif_estimate\n",
    "        \n",
    "    "
   ]
  },
  {
   "cell_type": "markdown",
   "id": "e6e55e5c",
   "metadata": {},
   "source": [
    "### EM algorithm"
   ]
  },
  {
   "cell_type": "code",
   "execution_count": 162,
   "id": "d0c0299d",
   "metadata": {},
   "outputs": [],
   "source": [
    "def expectation_maximization(\n",
    "    sequences,\n",
    "    motif_length,\n",
    "    n_iterations,\n",
    "    rng=None,\n",
    "    print_every=None,\n",
    "):\n",
    "    # Initialize the random number generator\n",
    "    if rng is None:\n",
    "        rng = np.random.default_rng()\n",
    "    if type(rng) == int:\n",
    "        rng = np.random.default_rng(rng)\n",
    "\n",
    "    # Initialize the motif estimate randomly\n",
    "    est_motif = rng.random(size=(motif_length, 4))\n",
    "    est_motif /= est_motif.sum(axis=1)[:, np.newaxis]\n",
    "    \n",
    "    # Iterate E and M steps\n",
    "    lls = []\n",
    "    positions_posterior_matrices = []\n",
    "    for n_iter in range(n_iterations):\n",
    "        # Print current log-likelihood\n",
    "        ll = log_likelihood(sequences, est_motif)\n",
    "        lls.append(ll)\n",
    "        if (print_every is not None) and (n_iter % print_every == 0):\n",
    "            print(f\"Iteration {n_iter}: LL = {ll}\")\n",
    "        \n",
    "        # E step\n",
    "        positions_posterior = expectation_step(sequences, est_motif)\n",
    "        positions_posterior_matrices.append(positions_posterior)\n",
    "        \n",
    "        # M step\n",
    "        est_motif = maximization_step(sequences, positions_posterior, motif_length)\n",
    "    \n",
    "    return est_motif, lls, positions_posterior_matrices"
   ]
  },
  {
   "cell_type": "markdown",
   "id": "9f7b2f29",
   "metadata": {},
   "source": [
    "## Run it!"
   ]
  },
  {
   "cell_type": "code",
   "execution_count": 186,
   "id": "950fc4ea",
   "metadata": {},
   "outputs": [
    {
     "name": "stdout",
     "output_type": "stream",
     "text": [
      "Iteration 0: LL = -12479.557895672278\n",
      "Iteration 10: LL = -12415.976506007715\n",
      "Iteration 20: LL = -12412.810672767755\n",
      "Iteration 30: LL = -12408.264428974055\n",
      "Iteration 40: LL = -12400.67334817695\n",
      "Iteration 50: LL = -12400.381424381116\n",
      "Iteration 60: LL = -12400.30196822229\n",
      "Iteration 70: LL = -12400.277618858794\n",
      "Iteration 80: LL = -12400.2687314222\n",
      "Iteration 90: LL = -12400.264570778083\n",
      "Iteration 100: LL = -12400.26237109699\n",
      "Iteration 110: LL = -12400.261144206146\n",
      "Iteration 120: LL = -12400.260436032386\n",
      "Iteration 130: LL = -12400.260014032532\n",
      "Iteration 140: LL = -12400.259753773142\n",
      "Iteration 150: LL = -12400.259587077659\n",
      "Iteration 160: LL = -12400.259475906038\n",
      "Iteration 170: LL = -12400.259398653572\n",
      "Iteration 180: LL = -12400.259342810012\n",
      "Iteration 190: LL = -12400.259300969026\n",
      "Iteration 200: LL = -12400.25926863235\n",
      "Iteration 210: LL = -12400.259242987604\n",
      "Iteration 220: LL = -12400.25922221944\n",
      "Iteration 230: LL = -12400.259205115943\n",
      "Iteration 240: LL = -12400.259190840223\n",
      "Iteration 250: LL = -12400.259178795328\n",
      "Iteration 260: LL = -12400.259168542574\n",
      "Iteration 270: LL = -12400.259159751042\n",
      "Iteration 280: LL = -12400.259152165467\n",
      "Iteration 290: LL = -12400.259145585187\n"
     ]
    }
   ],
   "source": [
    "est_motif, lls, positions_posterior_matrices = expectation_maximization(sequences, K, 300, print_every=10)"
   ]
  },
  {
   "cell_type": "markdown",
   "id": "f3197aa7",
   "metadata": {},
   "source": [
    "### Take a look at the result vs. truth"
   ]
  },
  {
   "cell_type": "code",
   "execution_count": 187,
   "id": "3b33b82c",
   "metadata": {},
   "outputs": [
    {
     "name": "stdout",
     "output_type": "stream",
     "text": [
      "Truth:\n",
      "[[0.4  0.3  0.2  0.1 ]\n",
      " [0.3  0.3  0.2  0.2 ]\n",
      " [0.9  0.   0.   0.1 ]\n",
      " [0.8  0.1  0.1  0.  ]\n",
      " [0.3  0.3  0.2  0.2 ]\n",
      " [0.3  0.3  0.2  0.2 ]\n",
      " [0.08 0.01 0.01 0.9 ]\n",
      " [0.   0.2  0.   0.8 ]]\n",
      "\n",
      "Estimate:\n",
      "[[0.384 0.187 0.171 0.258]\n",
      " [0.955 0.    0.045 0.   ]\n",
      " [0.82  0.06  0.097 0.024]\n",
      " [0.401 0.267 0.077 0.254]\n",
      " [0.268 0.341 0.125 0.266]\n",
      " [0.    0.001 0.    0.999]\n",
      " [0.    0.11  0.    0.89 ]\n",
      " [0.116 0.229 0.436 0.219]]\n"
     ]
    }
   ],
   "source": [
    "with np.printoptions(precision=3, suppress=True):\n",
    "    print(\"Truth:\")\n",
    "    print(motif)\n",
    "    print()\n",
    "    print(\"Estimate:\")\n",
    "    print(est_motif)"
   ]
  },
  {
   "cell_type": "code",
   "execution_count": 188,
   "id": "050efa4a",
   "metadata": {},
   "outputs": [
    {
     "data": {
      "text/plain": [
       "Text(0, 0.5, 'log likelihood')"
      ]
     },
     "execution_count": 188,
     "metadata": {},
     "output_type": "execute_result"
    },
    {
     "data": {
      "image/png": "[encoded data removed]",
      "text/plain": [
       "<Figure size 432x288 with 1 Axes>"
      ]
     },
     "metadata": {
      "needs_background": "light"
     },
     "output_type": "display_data"
    }
   ],
   "source": [
    "plt.plot(lls)\n",
    "plt.xlabel(\"# of iteration\")\n",
    "plt.ylabel(\"log likelihood\")"
   ]
  },
  {
   "cell_type": "code",
   "execution_count": 189,
   "id": "0cae3f5d",
   "metadata": {},
   "outputs": [],
   "source": [
    "PP = np.array(positions_posterior_matrices)"
   ]
  },
  {
   "cell_type": "code",
   "execution_count": 198,
   "id": "c5131fe2",
   "metadata": {},
   "outputs": [
    {
     "data": {
      "image/png": "[encoded data removed]",
      "text/plain": [
       "<Figure size 1440x360 with 2 Axes>"
      ]
     },
     "metadata": {
      "needs_background": "light"
     },
     "output_type": "display_data"
    }
   ],
   "source": [
    "import seaborn as sns\n",
    "\n",
    "fig, ax = plt.subplots(figsize=(20, 5))\n",
    "\n",
    "n_sequence_to_check = 44\n",
    "sns.heatmap(PP[:,n_sequence_to_check,:].T, ax=ax);\n",
    "ax.set_xlabel(\"# iteration\");\n",
    "ax.set_ylabel(\"position\");"
   ]
  },
  {
   "cell_type": "code",
   "execution_count": null,
   "id": "ca586ca3",
   "metadata": {},
   "outputs": [],
   "source": []
  }
 ],
 "metadata": {
  "kernelspec": {
   "display_name": "Python 3 (ipykernel)",
   "language": "python",
   "name": "python3"
  },
  "language_info": {
   "codemirror_mode": {
    "name": "ipython",
    "version": 3
   },
   "file_extension": ".py",
   "mimetype": "text/x-python",
   "name": "python",
   "nbconvert_exporter": "python",
   "pygments_lexer": "ipython3",
   "version": "3.9.12"
  }
 },
 "nbformat": 4,
 "nbformat_minor": 5
}
